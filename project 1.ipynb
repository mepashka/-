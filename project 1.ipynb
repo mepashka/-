{
 "cells": [
  {
   "cell_type": "markdown",
   "id": "c6f66db3",
   "metadata": {},
   "source": [
    "<div class=\"alert alert-success\">\n",
    "<h1> Комментарий ревьюера</h1>\n",
    "\n",
    "Привет, Павел!\n",
    "    \n",
    "Меня зовут Усов Егор, и я буду проверять твой проект) Предлагаю нам сразу перейти на ты, если ты не против)\n",
    "    \n",
    "Основная моя задача помочь тебе в освоении пройденного материала, а не в оценке проекта, поэтому не стесняйся задавать вопросы, если они есть)\n",
    "    \n",
    "Мои комментарии обозначены пометкой **Комментарий ревьюера**. Далее в файле ты сможешь найти их в похожих ячейках (если фон комментария <font color=green>✅зелёный</font> - всё сделано правильно; <font color=orange>⚠️оранжевый</font> - есть что улучшить, но не критично; <font color=red>красный</font> и есть такой ❌ знак- нужно переделать). Не удаляй эти комментарии и постарайся учесть их в ходе выполнения данного проекта. \n",
    "    \n",
    "Ты можешь отвечать мне своими комментариями и выделять их другим <font color=blue>цветом</font>.\n",
    "\n",
    "</div>"
   ]
  },
  {
   "cell_type": "markdown",
   "id": "3625e875",
   "metadata": {},
   "source": [
    "<div style=\"border:solid blue 3px; padding: 20px\">\n",
    "<div class=\"alert alert-info\">\n",
    "\n",
    "**Комментарий студента**\n",
    "    \n",
    "Для примера)\n",
    "</div>\n",
    "</div>"
   ]
  },
  {
   "cell_type": "markdown",
   "id": "86caaf68",
   "metadata": {},
   "source": [
    "<div class=\"alert alert-warning\">\n",
    "<h1> Общий комментарий </h1>\n",
    "\n",
    "Неплохая работа. Ты получил ответы на вопросы, при этом использовал различные инструменты для расчетов и конструкции питона и инструменты пандас.\n",
    "    \n",
    "Есть несколько недочетов, которые нужно устранить, прежде чем я приму твою работу.\n",
    "    \n",
    "Что нужно поправить:\n",
    "    \n",
    "- поправить код, одна ячейка не запускается.\n",
    "- дополнить общий вывод.\n",
    "    \n",
    "Жду твою работу на повторную проверку, если у тебя есть вопросы, не стесняйся их задавать)\n",
    "\n",
    "</div>"
   ]
  },
  {
   "cell_type": "markdown",
   "id": "14df332f",
   "metadata": {},
   "source": [
    "<div class=\"alert alert-warning\">\n",
    "<h1> Общий комментарий V2💡</h1>\n",
    "\n",
    "Спасибо за твои доработки, я вижу, что ты решил применить интересный подход к анализу и разбить клиентов по доходу с помощью квантилей. Это хорошее решение.\n",
    "    \n",
    "Возможно некоторые изменения не сохранились, ячейка с кодом опять не запускается. Проверь пожалуйста ее еще раз. И уточни промежуточный вывод, чтобы он соответствовал твоим расчетам.\n",
    "    \n",
    "Жду проект на следующую итерацию.\n",
    "\n",
    "</div>"
   ]
  },
  {
   "cell_type": "markdown",
   "id": "0056e51d",
   "metadata": {
    "deletable": false,
    "editable": false,
    "id": "c81daeeb"
   },
   "source": [
    "# Исследование надежности заемщиков\n"
   ]
  },
  {
   "cell_type": "markdown",
   "id": "45d07680",
   "metadata": {
    "deletable": false,
    "editable": false,
    "id": "827c20bf"
   },
   "source": [
    "Во второй части проекта вы выполните шаги 3 и 4. Их вручную проверит ревьюер.\n",
    "Чтобы вам не пришлось писать код заново для шагов 1 и 2, мы добавили авторские решения в ячейки с кодом. \n",
    "\n"
   ]
  },
  {
   "cell_type": "markdown",
   "id": "8fbc35f8",
   "metadata": {
    "deletable": false,
    "editable": false,
    "id": "744d7639"
   },
   "source": [
    "## Откройте таблицу и изучите общую информацию о данных"
   ]
  },
  {
   "cell_type": "markdown",
   "id": "cde74b0f",
   "metadata": {
    "deletable": false,
    "editable": false,
    "id": "e7a14c31"
   },
   "source": [
    "**Задание 1. Импортируйте библиотеку pandas. Считайте данные из csv-файла в датафрейм и сохраните в переменную `data`. Путь к файлу:**\n",
    "\n",
    "`/datasets/data.csv`"
   ]
  },
  {
   "cell_type": "code",
   "execution_count": 1,
   "id": "e148a992",
   "metadata": {
    "deletable": false,
    "id": "7bcf75c9"
   },
   "outputs": [],
   "source": [
    "import pandas as pd\n",
    "\n",
    "try:\n",
    "    data = pd.read_csv('/datasets/data.csv')\n",
    "except:\n",
    "    data = pd.read_csv('https://code.s3.yandex.net/datasets/data.csv')"
   ]
  },
  {
   "cell_type": "markdown",
   "id": "2e83c54d",
   "metadata": {
    "deletable": false,
    "editable": false,
    "id": "b8038fe3"
   },
   "source": [
    "**Задание 2. Выведите первые 20 строчек датафрейма `data` на экран.**"
   ]
  },
  {
   "cell_type": "code",
   "execution_count": 2,
   "id": "111b295f",
   "metadata": {
    "deletable": false,
    "id": "2a7cab99",
    "outputId": "1a8f3ef2-d323-4ec2-ddf7-89670b5944c4"
   },
   "outputs": [
    {
     "data": {
      "text/html": [
       "<div>\n",
       "<style scoped>\n",
       "    .dataframe tbody tr th:only-of-type {\n",
       "        vertical-align: middle;\n",
       "    }\n",
       "\n",
       "    .dataframe tbody tr th {\n",
       "        vertical-align: top;\n",
       "    }\n",
       "\n",
       "    .dataframe thead th {\n",
       "        text-align: right;\n",
       "    }\n",
       "</style>\n",
       "<table border=\"1\" class=\"dataframe\">\n",
       "  <thead>\n",
       "    <tr style=\"text-align: right;\">\n",
       "      <th></th>\n",
       "      <th>children</th>\n",
       "      <th>days_employed</th>\n",
       "      <th>dob_years</th>\n",
       "      <th>education</th>\n",
       "      <th>education_id</th>\n",
       "      <th>family_status</th>\n",
       "      <th>family_status_id</th>\n",
       "      <th>gender</th>\n",
       "      <th>income_type</th>\n",
       "      <th>debt</th>\n",
       "      <th>total_income</th>\n",
       "      <th>purpose</th>\n",
       "    </tr>\n",
       "  </thead>\n",
       "  <tbody>\n",
       "    <tr>\n",
       "      <th>0</th>\n",
       "      <td>1</td>\n",
       "      <td>-8437.673028</td>\n",
       "      <td>42</td>\n",
       "      <td>высшее</td>\n",
       "      <td>0</td>\n",
       "      <td>женат / замужем</td>\n",
       "      <td>0</td>\n",
       "      <td>F</td>\n",
       "      <td>сотрудник</td>\n",
       "      <td>0</td>\n",
       "      <td>253875.639453</td>\n",
       "      <td>покупка жилья</td>\n",
       "    </tr>\n",
       "    <tr>\n",
       "      <th>1</th>\n",
       "      <td>1</td>\n",
       "      <td>-4024.803754</td>\n",
       "      <td>36</td>\n",
       "      <td>среднее</td>\n",
       "      <td>1</td>\n",
       "      <td>женат / замужем</td>\n",
       "      <td>0</td>\n",
       "      <td>F</td>\n",
       "      <td>сотрудник</td>\n",
       "      <td>0</td>\n",
       "      <td>112080.014102</td>\n",
       "      <td>приобретение автомобиля</td>\n",
       "    </tr>\n",
       "    <tr>\n",
       "      <th>2</th>\n",
       "      <td>0</td>\n",
       "      <td>-5623.422610</td>\n",
       "      <td>33</td>\n",
       "      <td>Среднее</td>\n",
       "      <td>1</td>\n",
       "      <td>женат / замужем</td>\n",
       "      <td>0</td>\n",
       "      <td>M</td>\n",
       "      <td>сотрудник</td>\n",
       "      <td>0</td>\n",
       "      <td>145885.952297</td>\n",
       "      <td>покупка жилья</td>\n",
       "    </tr>\n",
       "    <tr>\n",
       "      <th>3</th>\n",
       "      <td>3</td>\n",
       "      <td>-4124.747207</td>\n",
       "      <td>32</td>\n",
       "      <td>среднее</td>\n",
       "      <td>1</td>\n",
       "      <td>женат / замужем</td>\n",
       "      <td>0</td>\n",
       "      <td>M</td>\n",
       "      <td>сотрудник</td>\n",
       "      <td>0</td>\n",
       "      <td>267628.550329</td>\n",
       "      <td>дополнительное образование</td>\n",
       "    </tr>\n",
       "    <tr>\n",
       "      <th>4</th>\n",
       "      <td>0</td>\n",
       "      <td>340266.072047</td>\n",
       "      <td>53</td>\n",
       "      <td>среднее</td>\n",
       "      <td>1</td>\n",
       "      <td>гражданский брак</td>\n",
       "      <td>1</td>\n",
       "      <td>F</td>\n",
       "      <td>пенсионер</td>\n",
       "      <td>0</td>\n",
       "      <td>158616.077870</td>\n",
       "      <td>сыграть свадьбу</td>\n",
       "    </tr>\n",
       "    <tr>\n",
       "      <th>5</th>\n",
       "      <td>0</td>\n",
       "      <td>-926.185831</td>\n",
       "      <td>27</td>\n",
       "      <td>высшее</td>\n",
       "      <td>0</td>\n",
       "      <td>гражданский брак</td>\n",
       "      <td>1</td>\n",
       "      <td>M</td>\n",
       "      <td>компаньон</td>\n",
       "      <td>0</td>\n",
       "      <td>255763.565419</td>\n",
       "      <td>покупка жилья</td>\n",
       "    </tr>\n",
       "    <tr>\n",
       "      <th>6</th>\n",
       "      <td>0</td>\n",
       "      <td>-2879.202052</td>\n",
       "      <td>43</td>\n",
       "      <td>высшее</td>\n",
       "      <td>0</td>\n",
       "      <td>женат / замужем</td>\n",
       "      <td>0</td>\n",
       "      <td>F</td>\n",
       "      <td>компаньон</td>\n",
       "      <td>0</td>\n",
       "      <td>240525.971920</td>\n",
       "      <td>операции с жильем</td>\n",
       "    </tr>\n",
       "    <tr>\n",
       "      <th>7</th>\n",
       "      <td>0</td>\n",
       "      <td>-152.779569</td>\n",
       "      <td>50</td>\n",
       "      <td>СРЕДНЕЕ</td>\n",
       "      <td>1</td>\n",
       "      <td>женат / замужем</td>\n",
       "      <td>0</td>\n",
       "      <td>M</td>\n",
       "      <td>сотрудник</td>\n",
       "      <td>0</td>\n",
       "      <td>135823.934197</td>\n",
       "      <td>образование</td>\n",
       "    </tr>\n",
       "    <tr>\n",
       "      <th>8</th>\n",
       "      <td>2</td>\n",
       "      <td>-6929.865299</td>\n",
       "      <td>35</td>\n",
       "      <td>ВЫСШЕЕ</td>\n",
       "      <td>0</td>\n",
       "      <td>гражданский брак</td>\n",
       "      <td>1</td>\n",
       "      <td>F</td>\n",
       "      <td>сотрудник</td>\n",
       "      <td>0</td>\n",
       "      <td>95856.832424</td>\n",
       "      <td>на проведение свадьбы</td>\n",
       "    </tr>\n",
       "    <tr>\n",
       "      <th>9</th>\n",
       "      <td>0</td>\n",
       "      <td>-2188.756445</td>\n",
       "      <td>41</td>\n",
       "      <td>среднее</td>\n",
       "      <td>1</td>\n",
       "      <td>женат / замужем</td>\n",
       "      <td>0</td>\n",
       "      <td>M</td>\n",
       "      <td>сотрудник</td>\n",
       "      <td>0</td>\n",
       "      <td>144425.938277</td>\n",
       "      <td>покупка жилья для семьи</td>\n",
       "    </tr>\n",
       "    <tr>\n",
       "      <th>10</th>\n",
       "      <td>2</td>\n",
       "      <td>-4171.483647</td>\n",
       "      <td>36</td>\n",
       "      <td>высшее</td>\n",
       "      <td>0</td>\n",
       "      <td>женат / замужем</td>\n",
       "      <td>0</td>\n",
       "      <td>M</td>\n",
       "      <td>компаньон</td>\n",
       "      <td>0</td>\n",
       "      <td>113943.491460</td>\n",
       "      <td>покупка недвижимости</td>\n",
       "    </tr>\n",
       "    <tr>\n",
       "      <th>11</th>\n",
       "      <td>0</td>\n",
       "      <td>-792.701887</td>\n",
       "      <td>40</td>\n",
       "      <td>среднее</td>\n",
       "      <td>1</td>\n",
       "      <td>женат / замужем</td>\n",
       "      <td>0</td>\n",
       "      <td>F</td>\n",
       "      <td>сотрудник</td>\n",
       "      <td>0</td>\n",
       "      <td>77069.234271</td>\n",
       "      <td>покупка коммерческой недвижимости</td>\n",
       "    </tr>\n",
       "    <tr>\n",
       "      <th>12</th>\n",
       "      <td>0</td>\n",
       "      <td>NaN</td>\n",
       "      <td>65</td>\n",
       "      <td>среднее</td>\n",
       "      <td>1</td>\n",
       "      <td>гражданский брак</td>\n",
       "      <td>1</td>\n",
       "      <td>M</td>\n",
       "      <td>пенсионер</td>\n",
       "      <td>0</td>\n",
       "      <td>NaN</td>\n",
       "      <td>сыграть свадьбу</td>\n",
       "    </tr>\n",
       "    <tr>\n",
       "      <th>13</th>\n",
       "      <td>0</td>\n",
       "      <td>-1846.641941</td>\n",
       "      <td>54</td>\n",
       "      <td>неоконченное высшее</td>\n",
       "      <td>2</td>\n",
       "      <td>женат / замужем</td>\n",
       "      <td>0</td>\n",
       "      <td>F</td>\n",
       "      <td>сотрудник</td>\n",
       "      <td>0</td>\n",
       "      <td>130458.228857</td>\n",
       "      <td>приобретение автомобиля</td>\n",
       "    </tr>\n",
       "    <tr>\n",
       "      <th>14</th>\n",
       "      <td>0</td>\n",
       "      <td>-1844.956182</td>\n",
       "      <td>56</td>\n",
       "      <td>высшее</td>\n",
       "      <td>0</td>\n",
       "      <td>гражданский брак</td>\n",
       "      <td>1</td>\n",
       "      <td>F</td>\n",
       "      <td>компаньон</td>\n",
       "      <td>1</td>\n",
       "      <td>165127.911772</td>\n",
       "      <td>покупка жилой недвижимости</td>\n",
       "    </tr>\n",
       "    <tr>\n",
       "      <th>15</th>\n",
       "      <td>1</td>\n",
       "      <td>-972.364419</td>\n",
       "      <td>26</td>\n",
       "      <td>среднее</td>\n",
       "      <td>1</td>\n",
       "      <td>женат / замужем</td>\n",
       "      <td>0</td>\n",
       "      <td>F</td>\n",
       "      <td>сотрудник</td>\n",
       "      <td>0</td>\n",
       "      <td>116820.904450</td>\n",
       "      <td>строительство собственной недвижимости</td>\n",
       "    </tr>\n",
       "    <tr>\n",
       "      <th>16</th>\n",
       "      <td>0</td>\n",
       "      <td>-1719.934226</td>\n",
       "      <td>35</td>\n",
       "      <td>среднее</td>\n",
       "      <td>1</td>\n",
       "      <td>женат / замужем</td>\n",
       "      <td>0</td>\n",
       "      <td>F</td>\n",
       "      <td>сотрудник</td>\n",
       "      <td>0</td>\n",
       "      <td>289202.704229</td>\n",
       "      <td>недвижимость</td>\n",
       "    </tr>\n",
       "    <tr>\n",
       "      <th>17</th>\n",
       "      <td>0</td>\n",
       "      <td>-2369.999720</td>\n",
       "      <td>33</td>\n",
       "      <td>высшее</td>\n",
       "      <td>0</td>\n",
       "      <td>гражданский брак</td>\n",
       "      <td>1</td>\n",
       "      <td>M</td>\n",
       "      <td>сотрудник</td>\n",
       "      <td>0</td>\n",
       "      <td>90410.586745</td>\n",
       "      <td>строительство недвижимости</td>\n",
       "    </tr>\n",
       "    <tr>\n",
       "      <th>18</th>\n",
       "      <td>0</td>\n",
       "      <td>400281.136913</td>\n",
       "      <td>53</td>\n",
       "      <td>среднее</td>\n",
       "      <td>1</td>\n",
       "      <td>вдовец / вдова</td>\n",
       "      <td>2</td>\n",
       "      <td>F</td>\n",
       "      <td>пенсионер</td>\n",
       "      <td>0</td>\n",
       "      <td>56823.777243</td>\n",
       "      <td>на покупку подержанного автомобиля</td>\n",
       "    </tr>\n",
       "    <tr>\n",
       "      <th>19</th>\n",
       "      <td>0</td>\n",
       "      <td>-10038.818549</td>\n",
       "      <td>48</td>\n",
       "      <td>СРЕДНЕЕ</td>\n",
       "      <td>1</td>\n",
       "      <td>в разводе</td>\n",
       "      <td>3</td>\n",
       "      <td>F</td>\n",
       "      <td>сотрудник</td>\n",
       "      <td>0</td>\n",
       "      <td>242831.107982</td>\n",
       "      <td>на покупку своего автомобиля</td>\n",
       "    </tr>\n",
       "  </tbody>\n",
       "</table>\n",
       "</div>"
      ],
      "text/plain": [
       "    children  days_employed  dob_years            education  education_id  \\\n",
       "0          1   -8437.673028         42               высшее             0   \n",
       "1          1   -4024.803754         36              среднее             1   \n",
       "2          0   -5623.422610         33              Среднее             1   \n",
       "3          3   -4124.747207         32              среднее             1   \n",
       "4          0  340266.072047         53              среднее             1   \n",
       "5          0    -926.185831         27               высшее             0   \n",
       "6          0   -2879.202052         43               высшее             0   \n",
       "7          0    -152.779569         50              СРЕДНЕЕ             1   \n",
       "8          2   -6929.865299         35               ВЫСШЕЕ             0   \n",
       "9          0   -2188.756445         41              среднее             1   \n",
       "10         2   -4171.483647         36               высшее             0   \n",
       "11         0    -792.701887         40              среднее             1   \n",
       "12         0            NaN         65              среднее             1   \n",
       "13         0   -1846.641941         54  неоконченное высшее             2   \n",
       "14         0   -1844.956182         56               высшее             0   \n",
       "15         1    -972.364419         26              среднее             1   \n",
       "16         0   -1719.934226         35              среднее             1   \n",
       "17         0   -2369.999720         33               высшее             0   \n",
       "18         0  400281.136913         53              среднее             1   \n",
       "19         0  -10038.818549         48              СРЕДНЕЕ             1   \n",
       "\n",
       "       family_status  family_status_id gender income_type  debt  \\\n",
       "0    женат / замужем                 0      F   сотрудник     0   \n",
       "1    женат / замужем                 0      F   сотрудник     0   \n",
       "2    женат / замужем                 0      M   сотрудник     0   \n",
       "3    женат / замужем                 0      M   сотрудник     0   \n",
       "4   гражданский брак                 1      F   пенсионер     0   \n",
       "5   гражданский брак                 1      M   компаньон     0   \n",
       "6    женат / замужем                 0      F   компаньон     0   \n",
       "7    женат / замужем                 0      M   сотрудник     0   \n",
       "8   гражданский брак                 1      F   сотрудник     0   \n",
       "9    женат / замужем                 0      M   сотрудник     0   \n",
       "10   женат / замужем                 0      M   компаньон     0   \n",
       "11   женат / замужем                 0      F   сотрудник     0   \n",
       "12  гражданский брак                 1      M   пенсионер     0   \n",
       "13   женат / замужем                 0      F   сотрудник     0   \n",
       "14  гражданский брак                 1      F   компаньон     1   \n",
       "15   женат / замужем                 0      F   сотрудник     0   \n",
       "16   женат / замужем                 0      F   сотрудник     0   \n",
       "17  гражданский брак                 1      M   сотрудник     0   \n",
       "18    вдовец / вдова                 2      F   пенсионер     0   \n",
       "19         в разводе                 3      F   сотрудник     0   \n",
       "\n",
       "     total_income                                 purpose  \n",
       "0   253875.639453                           покупка жилья  \n",
       "1   112080.014102                 приобретение автомобиля  \n",
       "2   145885.952297                           покупка жилья  \n",
       "3   267628.550329              дополнительное образование  \n",
       "4   158616.077870                         сыграть свадьбу  \n",
       "5   255763.565419                           покупка жилья  \n",
       "6   240525.971920                       операции с жильем  \n",
       "7   135823.934197                             образование  \n",
       "8    95856.832424                   на проведение свадьбы  \n",
       "9   144425.938277                 покупка жилья для семьи  \n",
       "10  113943.491460                    покупка недвижимости  \n",
       "11   77069.234271       покупка коммерческой недвижимости  \n",
       "12            NaN                         сыграть свадьбу  \n",
       "13  130458.228857                 приобретение автомобиля  \n",
       "14  165127.911772              покупка жилой недвижимости  \n",
       "15  116820.904450  строительство собственной недвижимости  \n",
       "16  289202.704229                            недвижимость  \n",
       "17   90410.586745              строительство недвижимости  \n",
       "18   56823.777243      на покупку подержанного автомобиля  \n",
       "19  242831.107982            на покупку своего автомобиля  "
      ]
     },
     "execution_count": 2,
     "metadata": {},
     "output_type": "execute_result"
    }
   ],
   "source": [
    "data.head(20)"
   ]
  },
  {
   "cell_type": "markdown",
   "id": "480f5cc3",
   "metadata": {
    "deletable": false,
    "editable": false,
    "id": "1c12e233"
   },
   "source": [
    "**Задание 3. Выведите основную информацию о датафрейме с помощью метода `info()`.**"
   ]
  },
  {
   "cell_type": "code",
   "execution_count": 3,
   "id": "8bee3fa1",
   "metadata": {
    "deletable": false,
    "id": "2b757bca",
    "outputId": "15376089-8dad-46c9-b520-c05248d43158"
   },
   "outputs": [
    {
     "name": "stdout",
     "output_type": "stream",
     "text": [
      "<class 'pandas.core.frame.DataFrame'>\n",
      "RangeIndex: 21525 entries, 0 to 21524\n",
      "Data columns (total 12 columns):\n",
      " #   Column            Non-Null Count  Dtype  \n",
      "---  ------            --------------  -----  \n",
      " 0   children          21525 non-null  int64  \n",
      " 1   days_employed     19351 non-null  float64\n",
      " 2   dob_years         21525 non-null  int64  \n",
      " 3   education         21525 non-null  object \n",
      " 4   education_id      21525 non-null  int64  \n",
      " 5   family_status     21525 non-null  object \n",
      " 6   family_status_id  21525 non-null  int64  \n",
      " 7   gender            21525 non-null  object \n",
      " 8   income_type       21525 non-null  object \n",
      " 9   debt              21525 non-null  int64  \n",
      " 10  total_income      19351 non-null  float64\n",
      " 11  purpose           21525 non-null  object \n",
      "dtypes: float64(2), int64(5), object(5)\n",
      "memory usage: 2.0+ MB\n"
     ]
    }
   ],
   "source": [
    "data.info()"
   ]
  },
  {
   "cell_type": "markdown",
   "id": "70c9aa0e",
   "metadata": {
    "deletable": false,
    "editable": false,
    "id": "333ec665"
   },
   "source": [
    "## Предобработка данных"
   ]
  },
  {
   "cell_type": "markdown",
   "id": "643d077c",
   "metadata": {
    "deletable": false,
    "editable": false,
    "id": "02d92d53"
   },
   "source": [
    "### Удаление пропусков"
   ]
  },
  {
   "cell_type": "markdown",
   "id": "90e1ee28",
   "metadata": {
    "deletable": false,
    "editable": false,
    "id": "cd84967c"
   },
   "source": [
    "**Задание 4. Выведите количество пропущенных значений для каждого столбца. Используйте комбинацию двух методов.**"
   ]
  },
  {
   "cell_type": "code",
   "execution_count": 4,
   "id": "9dd42c64",
   "metadata": {
    "deletable": false,
    "id": "7f9b2309",
    "outputId": "81f4d817-781c-465c-ed15-91ce4446810d"
   },
   "outputs": [
    {
     "data": {
      "text/plain": [
       "children               0\n",
       "days_employed       2174\n",
       "dob_years              0\n",
       "education              0\n",
       "education_id           0\n",
       "family_status          0\n",
       "family_status_id       0\n",
       "gender                 0\n",
       "income_type            0\n",
       "debt                   0\n",
       "total_income        2174\n",
       "purpose                0\n",
       "dtype: int64"
      ]
     },
     "execution_count": 4,
     "metadata": {},
     "output_type": "execute_result"
    }
   ],
   "source": [
    "data.isna().sum()"
   ]
  },
  {
   "cell_type": "markdown",
   "id": "4c482f44",
   "metadata": {
    "deletable": false,
    "editable": false,
    "id": "db86e27b"
   },
   "source": [
    "**Задание 5. В двух столбцах есть пропущенные значения. Один из них — `days_employed`. Пропуски в этом столбце вы обработаете на следующем этапе. Другой столбец с пропущенными значениями — `total_income` — хранит данные о доходах. На сумму дохода сильнее всего влияет тип занятости, поэтому заполнить пропуски в этом столбце нужно медианным значением по каждому типу из столбца `income_type`. Например, у человека с типом занятости `сотрудник` пропуск в столбце `total_income` должен быть заполнен медианным доходом среди всех записей с тем же типом.**"
   ]
  },
  {
   "cell_type": "code",
   "execution_count": 5,
   "id": "6a02bb45",
   "metadata": {
    "deletable": false,
    "id": "42006a93"
   },
   "outputs": [],
   "source": [
    "for t in data['income_type'].unique():\n",
    "    data.loc[(data['income_type'] == t) & (data['total_income'].isna()), 'total_income'] = \\\n",
    "    data.loc[(data['income_type'] == t), 'total_income'].median()"
   ]
  },
  {
   "cell_type": "markdown",
   "id": "3b2a1926",
   "metadata": {
    "deletable": false,
    "editable": false,
    "id": "89da5ece"
   },
   "source": [
    "### Обработка аномальных значений"
   ]
  },
  {
   "cell_type": "markdown",
   "id": "339a7b7e",
   "metadata": {
    "deletable": false,
    "editable": false,
    "id": "57964554"
   },
   "source": [
    "**Задание 6. В данных могут встречаться артефакты (аномалии) — значения, которые не отражают действительность и появились по какой-то ошибке. таким артефактом будет отрицательное количество дней трудового стажа в столбце `days_employed`. Для реальных данных это нормально. Обработайте значения в этом столбце: замените все отрицательные значения положительными с помощью метода `abs()`.**"
   ]
  },
  {
   "cell_type": "code",
   "execution_count": 6,
   "id": "8ce3b738",
   "metadata": {
    "deletable": false,
    "id": "f6f055bf"
   },
   "outputs": [],
   "source": [
    "data['days_employed'] = data['days_employed'].abs()"
   ]
  },
  {
   "cell_type": "markdown",
   "id": "433a64b2",
   "metadata": {
    "deletable": false,
    "editable": false,
    "id": "6107dd2f"
   },
   "source": [
    "**Задание 7. Для каждого типа занятости выведите медианное значение трудового стажа `days_employed` в днях.**"
   ]
  },
  {
   "cell_type": "code",
   "execution_count": 7,
   "id": "e81ce32d",
   "metadata": {
    "deletable": false,
    "id": "85a5faf6",
    "outputId": "801ef80e-522b-4668-f34e-565af7432bcf"
   },
   "outputs": [
    {
     "data": {
      "text/plain": [
       "income_type\n",
       "безработный        366413.652744\n",
       "в декрете            3296.759962\n",
       "госслужащий          2689.368353\n",
       "компаньон            1547.382223\n",
       "пенсионер          365213.306266\n",
       "предприниматель       520.848083\n",
       "сотрудник            1574.202821\n",
       "студент               578.751554\n",
       "Name: days_employed, dtype: float64"
      ]
     },
     "execution_count": 7,
     "metadata": {},
     "output_type": "execute_result"
    }
   ],
   "source": [
    "data.groupby('income_type')['days_employed'].agg('median')"
   ]
  },
  {
   "cell_type": "markdown",
   "id": "fa3597a7",
   "metadata": {
    "deletable": false,
    "editable": false,
    "id": "38d1a030"
   },
   "source": [
    "У двух типов (безработные и пенсионеры) получатся аномально большие значения. Исправить такие значения сложно, поэтому оставьте их как есть. Тем более этот столбец не понадобится вам для исследования."
   ]
  },
  {
   "cell_type": "markdown",
   "id": "866b2577",
   "metadata": {
    "deletable": false,
    "editable": false,
    "id": "d8a9f147"
   },
   "source": [
    "**Задание 8. Выведите перечень уникальных значений столбца `children`.**"
   ]
  },
  {
   "cell_type": "code",
   "execution_count": 8,
   "id": "4eaa1767",
   "metadata": {
    "deletable": false,
    "id": "ef5056eb",
    "outputId": "6975b15c-7f95-4697-d16d-a0c79b657b03"
   },
   "outputs": [
    {
     "data": {
      "text/plain": [
       "array([ 1,  0,  3,  2, -1,  4, 20,  5], dtype=int64)"
      ]
     },
     "execution_count": 8,
     "metadata": {},
     "output_type": "execute_result"
    }
   ],
   "source": [
    "data['children'].unique()"
   ]
  },
  {
   "cell_type": "markdown",
   "id": "3504f0e0",
   "metadata": {
    "deletable": false,
    "editable": false,
    "id": "40b9ebf2"
   },
   "source": [
    "**Задание 9. В столбце `children` есть два аномальных значения. Удалите строки, в которых встречаются такие аномальные значения из датафрейма `data`.**"
   ]
  },
  {
   "cell_type": "code",
   "execution_count": 9,
   "id": "190c704a",
   "metadata": {
    "deletable": false,
    "id": "3ff9801d"
   },
   "outputs": [],
   "source": [
    "data = data[(data['children'] != -1) & (data['children'] != 20)]"
   ]
  },
  {
   "cell_type": "markdown",
   "id": "7463063c",
   "metadata": {
    "deletable": false,
    "editable": false,
    "id": "bbc4d0ce"
   },
   "source": [
    "**Задание 10. Ещё раз выведите перечень уникальных значений столбца `children`, чтобы убедиться, что артефакты удалены.**"
   ]
  },
  {
   "cell_type": "code",
   "execution_count": 10,
   "id": "265de3ff",
   "metadata": {
    "deletable": false,
    "id": "ad4fa8b7",
    "outputId": "b2097101-d49d-44d9-901b-32a65c9463d1"
   },
   "outputs": [
    {
     "data": {
      "text/plain": [
       "array([1, 0, 3, 2, 4, 5], dtype=int64)"
      ]
     },
     "execution_count": 10,
     "metadata": {},
     "output_type": "execute_result"
    }
   ],
   "source": [
    "data['children'].unique()"
   ]
  },
  {
   "cell_type": "markdown",
   "id": "7552f415",
   "metadata": {
    "deletable": false,
    "editable": false,
    "id": "75440b63"
   },
   "source": [
    "### Удаление пропусков (продолжение)"
   ]
  },
  {
   "cell_type": "markdown",
   "id": "23748a01",
   "metadata": {
    "deletable": false,
    "editable": false,
    "id": "f4ea573f"
   },
   "source": [
    "**Задание 11. Заполните пропуски в столбце `days_employed` медианными значениями по каждого типа занятости `income_type`.**"
   ]
  },
  {
   "cell_type": "code",
   "execution_count": 11,
   "id": "733c7cc0",
   "metadata": {
    "deletable": false,
    "id": "af6b1a7e"
   },
   "outputs": [],
   "source": [
    "for t in data['income_type'].unique():\n",
    "    data.loc[(data['income_type'] == t) & (data['days_employed'].isna()), 'days_employed'] = \\\n",
    "    data.loc[(data['income_type'] == t), 'days_employed'].median()"
   ]
  },
  {
   "cell_type": "markdown",
   "id": "4bede7f6",
   "metadata": {
    "deletable": false,
    "editable": false,
    "id": "2753f40d"
   },
   "source": [
    "**Задание 12. Убедитесь, что все пропуски заполнены. Проверьте себя и ещё раз выведите количество пропущенных значений для каждого столбца с помощью двух методов.**"
   ]
  },
  {
   "cell_type": "code",
   "execution_count": 12,
   "id": "88bae668",
   "metadata": {
    "deletable": false,
    "id": "55f78bc2",
    "outputId": "8da1e4e1-358e-4e87-98c9-f261bce0a7b2"
   },
   "outputs": [
    {
     "data": {
      "text/plain": [
       "children            0\n",
       "days_employed       0\n",
       "dob_years           0\n",
       "education           0\n",
       "education_id        0\n",
       "family_status       0\n",
       "family_status_id    0\n",
       "gender              0\n",
       "income_type         0\n",
       "debt                0\n",
       "total_income        0\n",
       "purpose             0\n",
       "dtype: int64"
      ]
     },
     "execution_count": 12,
     "metadata": {},
     "output_type": "execute_result"
    }
   ],
   "source": [
    "data.isna().sum()"
   ]
  },
  {
   "cell_type": "markdown",
   "id": "65b8a1df",
   "metadata": {
    "deletable": false,
    "editable": false,
    "id": "ddc81e43"
   },
   "source": [
    "### Изменение типов данных"
   ]
  },
  {
   "cell_type": "markdown",
   "id": "fb026b97",
   "metadata": {
    "deletable": false,
    "editable": false,
    "id": "42d19d24"
   },
   "source": [
    "**Задание 13. Замените вещественный тип данных в столбце `total_income` на целочисленный с помощью метода `astype()`.**"
   ]
  },
  {
   "cell_type": "code",
   "execution_count": 13,
   "id": "b02d4828",
   "metadata": {
    "deletable": false,
    "id": "920b65ad"
   },
   "outputs": [],
   "source": [
    "data['total_income'] = data['total_income'].astype(int)"
   ]
  },
  {
   "cell_type": "markdown",
   "id": "d06fb8b7",
   "metadata": {
    "deletable": false,
    "editable": false,
    "id": "80c420ba"
   },
   "source": [
    "### Обработка дубликатов"
   ]
  },
  {
   "cell_type": "markdown",
   "id": "960918b8",
   "metadata": {
    "deletable": false,
    "editable": false
   },
   "source": [
    "**Задание 14. Обработайте неявные дубликаты в столбце `education`. В этом столбце есть одни и те же значения, но записанные по-разному: с использованием заглавных и строчных букв. Приведите их к нижнему регистру. Проверьте остальные столбцы.**"
   ]
  },
  {
   "cell_type": "code",
   "execution_count": 14,
   "id": "ac5e65c1",
   "metadata": {
    "deletable": false
   },
   "outputs": [],
   "source": [
    "data['education'] = data['education'].str.lower()"
   ]
  },
  {
   "cell_type": "markdown",
   "id": "468615dc",
   "metadata": {
    "deletable": false,
    "editable": false,
    "id": "dc587695"
   },
   "source": [
    "**Задание 15. Выведите на экран количество строк-дубликатов в данных. Если такие строки присутствуют, удалите их.**"
   ]
  },
  {
   "cell_type": "code",
   "execution_count": 15,
   "id": "c64015b2",
   "metadata": {
    "deletable": false,
    "id": "3ee445e4",
    "outputId": "9684deba-1934-42d1-99e1-cda61740f822"
   },
   "outputs": [
    {
     "data": {
      "text/plain": [
       "71"
      ]
     },
     "execution_count": 15,
     "metadata": {},
     "output_type": "execute_result"
    }
   ],
   "source": [
    "data.duplicated().sum()"
   ]
  },
  {
   "cell_type": "code",
   "execution_count": 16,
   "id": "27ce3956",
   "metadata": {
    "deletable": false,
    "id": "8575fe05"
   },
   "outputs": [],
   "source": [
    "data = data.drop_duplicates()"
   ]
  },
  {
   "cell_type": "markdown",
   "id": "683aef63",
   "metadata": {
    "deletable": false,
    "editable": false,
    "id": "9904cf55"
   },
   "source": [
    "### Категоризация данных"
   ]
  },
  {
   "cell_type": "markdown",
   "id": "35d4e22c",
   "metadata": {
    "deletable": false,
    "editable": false,
    "id": "72fcc8a2"
   },
   "source": [
    "**Задание 16. На основании диапазонов, указанных ниже, создайте в датафрейме `data` столбец `total_income_category` с категориями:**\n",
    "\n",
    "- 0–30000 — `'E'`;\n",
    "- 30001–50000 — `'D'`;\n",
    "- 50001–200000 — `'C'`;\n",
    "- 200001–1000000 — `'B'`;\n",
    "- 1000001 и выше — `'A'`.\n",
    "\n",
    "\n",
    "**Например, кредитополучателю с доходом 25000 нужно назначить категорию `'E'`, а клиенту, получающему 235000, — `'B'`. Используйте собственную функцию с именем `categorize_income()` и метод `apply()`.**"
   ]
  },
  {
   "cell_type": "code",
   "execution_count": 17,
   "id": "a5df0548",
   "metadata": {
    "deletable": false,
    "id": "e1771346"
   },
   "outputs": [],
   "source": [
    "def categorize_income(income):\n",
    "    try:\n",
    "        if 0 <= income <= 30000:\n",
    "            return 'E'\n",
    "        elif 30001 <= income <= 50000:\n",
    "            return 'D'\n",
    "        elif 50001 <= income <= 200000:\n",
    "            return 'C'\n",
    "        elif 200001 <= income <= 1000000:\n",
    "            return 'B'\n",
    "        elif income >= 1000001:\n",
    "            return 'A'\n",
    "    except:\n",
    "        pass"
   ]
  },
  {
   "cell_type": "code",
   "execution_count": 18,
   "id": "f55f2f5e",
   "metadata": {
    "deletable": false,
    "id": "d5f3586d"
   },
   "outputs": [],
   "source": [
    "data['total_income_category'] = data['total_income'].apply(categorize_income)"
   ]
  },
  {
   "cell_type": "markdown",
   "id": "e4462d2f",
   "metadata": {
    "deletable": false,
    "editable": false,
    "id": "dde49b5c"
   },
   "source": [
    "**Задание 17. Выведите на экран перечень уникальных целей взятия кредита из столбца `purpose`.**"
   ]
  },
  {
   "cell_type": "code",
   "execution_count": 19,
   "id": "789ba80f",
   "metadata": {
    "deletable": false,
    "id": "f67ce9b3",
    "outputId": "673c12d9-7d7e-4ae0-9812-c622c89dd244"
   },
   "outputs": [
    {
     "data": {
      "text/plain": [
       "array(['покупка жилья', 'приобретение автомобиля',\n",
       "       'дополнительное образование', 'сыграть свадьбу',\n",
       "       'операции с жильем', 'образование', 'на проведение свадьбы',\n",
       "       'покупка жилья для семьи', 'покупка недвижимости',\n",
       "       'покупка коммерческой недвижимости', 'покупка жилой недвижимости',\n",
       "       'строительство собственной недвижимости', 'недвижимость',\n",
       "       'строительство недвижимости', 'на покупку подержанного автомобиля',\n",
       "       'на покупку своего автомобиля',\n",
       "       'операции с коммерческой недвижимостью',\n",
       "       'строительство жилой недвижимости', 'жилье',\n",
       "       'операции со своей недвижимостью', 'автомобили',\n",
       "       'заняться образованием', 'сделка с подержанным автомобилем',\n",
       "       'получение образования', 'автомобиль', 'свадьба',\n",
       "       'получение дополнительного образования', 'покупка своего жилья',\n",
       "       'операции с недвижимостью', 'получение высшего образования',\n",
       "       'свой автомобиль', 'сделка с автомобилем',\n",
       "       'профильное образование', 'высшее образование',\n",
       "       'покупка жилья для сдачи', 'на покупку автомобиля', 'ремонт жилью',\n",
       "       'заняться высшим образованием'], dtype=object)"
      ]
     },
     "execution_count": 19,
     "metadata": {},
     "output_type": "execute_result"
    }
   ],
   "source": [
    "data['purpose'].unique()"
   ]
  },
  {
   "cell_type": "markdown",
   "id": "7110ab80",
   "metadata": {
    "deletable": false,
    "editable": false,
    "id": "85d0aef0"
   },
   "source": [
    "**Задание 18. Создайте функцию, которая на основании данных из столбца `purpose` сформирует новый столбец `purpose_category`, в который войдут следующие категории:**\n",
    "\n",
    "- `'операции с автомобилем'`,\n",
    "- `'операции с недвижимостью'`,\n",
    "- `'проведение свадьбы'`,\n",
    "- `'получение образования'`.\n",
    "\n",
    "**Например, если в столбце `purpose` находится подстрока `'на покупку автомобиля'`, то в столбце `purpose_category` должна появиться строка `'операции с автомобилем'`.**\n",
    "\n",
    "**Используйте собственную функцию с именем `categorize_purpose()` и метод `apply()`. Изучите данные в столбце `purpose` и определите, какие подстроки помогут вам правильно определить категорию.**"
   ]
  },
  {
   "cell_type": "code",
   "execution_count": 20,
   "id": "fc520c0f",
   "metadata": {
    "deletable": false,
    "id": "e149fab4"
   },
   "outputs": [],
   "source": [
    "def categorize_purpose(row):\n",
    "    try:\n",
    "        if 'автом' in row:\n",
    "            return 'операции с автомобилем'\n",
    "        elif 'жил' in row or 'недвиж' in row:\n",
    "            return 'операции с недвижимостью'\n",
    "        elif 'свад' in row:\n",
    "            return 'проведение свадьбы'\n",
    "        elif 'образов' in row:\n",
    "            return 'получение образования'\n",
    "    except:\n",
    "        return 'нет категории'"
   ]
  },
  {
   "cell_type": "code",
   "execution_count": 21,
   "id": "55b450b9",
   "metadata": {
    "deletable": false,
    "id": "bf36e69b"
   },
   "outputs": [],
   "source": [
    "data['purpose_category'] = data['purpose'].apply(categorize_purpose)"
   ]
  },
  {
   "cell_type": "markdown",
   "id": "6852f97f",
   "metadata": {},
   "source": [
    "<div class=\"alert alert-success\">\n",
    "<h1> Комментарий ревьюера✅</h1>\n",
    "\n",
    "Данные готовы к анализу)\n",
    "\n",
    "</div>"
   ]
  },
  {
   "cell_type": "markdown",
   "id": "6990feb5",
   "metadata": {
    "deletable": false,
    "editable": false,
    "id": "09b242bf"
   },
   "source": [
    "### Шаг 3. Исследуйте данные и ответьте на вопросы"
   ]
  },
  {
   "cell_type": "markdown",
   "id": "cda61350",
   "metadata": {
    "deletable": false,
    "editable": false,
    "id": "c5d66278"
   },
   "source": [
    "#### 3.1 Есть ли зависимость между количеством детей и возвратом кредита в срок?"
   ]
  },
  {
   "cell_type": "code",
   "execution_count": 22,
   "id": "285abb99",
   "metadata": {
    "deletable": false,
    "id": "2cacfc4a",
    "scrolled": true
   },
   "outputs": [
    {
     "name": "stdout",
     "output_type": "stream",
     "text": [
      "Доля должников с детьми - 9.2%, это больше, чем доля должников без детей.\n",
      "Доля должников без детей - 7.5%\n"
     ]
    }
   ],
   "source": [
    "debt_and_children = data[['children', 'debt']]\n",
    "\n",
    "clients_with_children = debt_and_children.loc[debt_and_children['children'] > 0]\n",
    "debtors_with_children = clients_with_children.loc[clients_with_children['debt'] == 1]\n",
    "debtors_with_children_mean = len(debtors_with_children) / len(clients_with_children)\n",
    "\n",
    "clients_without_children = debt_and_children.loc[debt_and_children['children'] == 0]\n",
    "debtors_without_children = clients_without_children.loc[clients_without_children['debt'] == 1]\n",
    "debtors_without_children_mean = len(debtors_without_children) / len(clients_without_children)\n",
    "\n",
    "if debtors_with_children_mean > debtors_without_children_mean:\n",
    "    print('Доля должников с детьми - {:.1%}, это больше, чем доля должников без детей.'.format(debtors_with_children_mean))\n",
    "    print('Доля должников без детей - {:.1%}'.format(debtors_without_children_mean))"
   ]
  },
  {
   "cell_type": "markdown",
   "id": "a613e80a",
   "metadata": {
    "deletable": false,
    "id": "3a6b99ec"
   },
   "source": [
    "**Вывод:** Доля должников с детьми больше доли бездетных должников. Отсюда вывод, что наличие детей негативно влияет на возврат кредита в срок."
   ]
  },
  {
   "cell_type": "markdown",
   "id": "a0eb93d8",
   "metadata": {},
   "source": [
    "<div class=\"alert alert-warning\">\n",
    "<h1> Комментарий ревьюера💡</h1>\n",
    "\n",
    "В целом верно. Но мы не видим долю просрочки для заемщиков без детей. Хорошо бы ее тоже вывести на экран.\n",
    "\n",
    "</div>"
   ]
  },
  {
   "cell_type": "markdown",
   "id": "02163227",
   "metadata": {},
   "source": [
    "<div class=\"alert alert-success\">\n",
    "<h1> Комментарий ревьюера V2✅</h1>\n",
    "\n",
    "Отлично. Теперь мы видим и ту и ту долю и наш вывод подтвержден наблюдениями.\n",
    "\n",
    "</div>"
   ]
  },
  {
   "cell_type": "markdown",
   "id": "cecdb93f",
   "metadata": {
    "deletable": false,
    "editable": false,
    "id": "97be82ca"
   },
   "source": [
    "#### 3.2 Есть ли зависимость между семейным положением и возвратом кредита в срок?"
   ]
  },
  {
   "cell_type": "code",
   "execution_count": 23,
   "id": "d7323279",
   "metadata": {
    "deletable": false,
    "id": "dc3f7ee8"
   },
   "outputs": [
    {
     "data": {
      "text/html": [
       "<div>\n",
       "<style scoped>\n",
       "    .dataframe tbody tr th:only-of-type {\n",
       "        vertical-align: middle;\n",
       "    }\n",
       "\n",
       "    .dataframe tbody tr th {\n",
       "        vertical-align: top;\n",
       "    }\n",
       "\n",
       "    .dataframe thead th {\n",
       "        text-align: right;\n",
       "    }\n",
       "</style>\n",
       "<table border=\"1\" class=\"dataframe\">\n",
       "  <thead>\n",
       "    <tr style=\"text-align: right;\">\n",
       "      <th></th>\n",
       "      <th>debt</th>\n",
       "      <th>number</th>\n",
       "      <th>mean, %</th>\n",
       "    </tr>\n",
       "    <tr>\n",
       "      <th>family_status</th>\n",
       "      <th></th>\n",
       "      <th></th>\n",
       "      <th></th>\n",
       "    </tr>\n",
       "  </thead>\n",
       "  <tbody>\n",
       "    <tr>\n",
       "      <th>Не женат / не замужем</th>\n",
       "      <td>2796</td>\n",
       "      <td>273</td>\n",
       "      <td>9.763948</td>\n",
       "    </tr>\n",
       "    <tr>\n",
       "      <th>гражданский брак</th>\n",
       "      <td>4134</td>\n",
       "      <td>385</td>\n",
       "      <td>9.313014</td>\n",
       "    </tr>\n",
       "    <tr>\n",
       "      <th>женат / замужем</th>\n",
       "      <td>12261</td>\n",
       "      <td>927</td>\n",
       "      <td>7.560558</td>\n",
       "    </tr>\n",
       "    <tr>\n",
       "      <th>в разводе</th>\n",
       "      <td>1189</td>\n",
       "      <td>84</td>\n",
       "      <td>7.064760</td>\n",
       "    </tr>\n",
       "    <tr>\n",
       "      <th>вдовец / вдова</th>\n",
       "      <td>951</td>\n",
       "      <td>63</td>\n",
       "      <td>6.624606</td>\n",
       "    </tr>\n",
       "  </tbody>\n",
       "</table>\n",
       "</div>"
      ],
      "text/plain": [
       "                        debt  number   mean, %\n",
       "family_status                                 \n",
       "Не женат / не замужем   2796     273  9.763948\n",
       "гражданский брак        4134     385  9.313014\n",
       "женат / замужем        12261     927  7.560558\n",
       "в разводе               1189      84  7.064760\n",
       "вдовец / вдова           951      63  6.624606"
      ]
     },
     "execution_count": 23,
     "metadata": {},
     "output_type": "execute_result"
    }
   ],
   "source": [
    "# Есть ли зависимость между семейным положением и возвратом кредита в срок?\n",
    "\n",
    "debtors_family_status = data[['family_status', 'debt']]\n",
    "debtors_family_status_grouped = debtors_family_status.groupby('family_status').count()\n",
    "debtors_family_status_grouped['number'] = debtors_family_status.loc[debtors_family_status['debt'] == 1].groupby('family_status').sum()\n",
    "debtors_family_status_grouped['mean, %'] = debtors_family_status_grouped['number'] / debtors_family_status_grouped['debt'] * 100\n",
    "debtors_family_status_grouped.sort_values('mean, %', ascending=False)"
   ]
  },
  {
   "cell_type": "markdown",
   "id": "43db8a4e",
   "metadata": {
    "deletable": false,
    "id": "1cef7837"
   },
   "source": [
    "**Вывод:** Результат исследования показывает, что в группе клиентов со статусом не женат / не замужем доля должников больше всего - почти 9,8%. Меньше всего должников среди вдовцов - 6,5%."
   ]
  },
  {
   "cell_type": "markdown",
   "id": "a6557b1a",
   "metadata": {},
   "source": [
    "<div class=\"alert alert-success\">\n",
    "<h1> Комментарий ревьюера✅</h1>\n",
    "\n",
    "Верно. А в целом можно сказать, что кредиты лучше платят те, кто официально оформлял свои отношения.\n",
    "\n",
    "</div>"
   ]
  },
  {
   "cell_type": "markdown",
   "id": "b5d22286",
   "metadata": {},
   "source": [
    "<div class=\"alert alert-warning\">\n",
    "<h1> Комментарий ревьюера💡</h1>\n",
    "\n",
    "К сгруппированным данным можно применить метод agg и в качестве параметра передать список агрегатных функций. Так можно в одно действие получить сводную таблицу с тремя колонками для каждой группы - количеством клиентов, количеством должников и долей просрочки.\n",
    "\n",
    "</div>"
   ]
  },
  {
   "cell_type": "markdown",
   "id": "3b92b65f",
   "metadata": {
    "deletable": false,
    "editable": false,
    "id": "1e8b2fca"
   },
   "source": [
    "#### 3.3 Есть ли зависимость между уровнем дохода и возвратом кредита в срок?"
   ]
  },
  {
   "cell_type": "code",
   "execution_count": 24,
   "id": "4ab4fbcc",
   "metadata": {
    "deletable": false,
    "id": "cd7e3720"
   },
   "outputs": [
    {
     "data": {
      "text/plain": [
       "count    2.133100e+04\n",
       "mean     1.653427e+05\n",
       "std      9.831399e+04\n",
       "min      2.066700e+04\n",
       "25%      1.075070e+05\n",
       "50%      1.425940e+05\n",
       "75%      1.958420e+05\n",
       "max      2.265604e+06\n",
       "Name: total_income, dtype: float64"
      ]
     },
     "execution_count": 24,
     "metadata": {},
     "output_type": "execute_result"
    }
   ],
   "source": [
    "# - Есть ли зависимость между уровнем дохода и возвратом кредита в срок?\n",
    "\n",
    "# посмотрим отсечки, что предложит нам describe\n",
    "data['total_income'].describe()"
   ]
  },
  {
   "cell_type": "code",
   "execution_count": 25,
   "id": "c66721a8",
   "metadata": {},
   "outputs": [
    {
     "data": {
      "text/plain": [
       "0.25    107507.0\n",
       "0.50    142594.0\n",
       "0.75    195842.0\n",
       "Name: total_income, dtype: float64"
      ]
     },
     "execution_count": 25,
     "metadata": {},
     "output_type": "execute_result"
    }
   ],
   "source": [
    "# в более удобном виде через quantile\n",
    "data['total_income'].quantile([.25, .5, .75])"
   ]
  },
  {
   "cell_type": "markdown",
   "id": "761d3c8f",
   "metadata": {},
   "source": [
    "<div class=\"alert alert-success\">\n",
    "<h1> Комментарий ревьюера V2✅</h1>\n",
    "\n",
    "Использовать квантили - это отличное решение.\n",
    "    \n",
    "Кстати есть специальная функция в библиотеке pandas - **qcut**, с помощью которой можно можно разбить по квантилям набор данных.\n",
    "\n",
    "</div>"
   ]
  },
  {
   "cell_type": "code",
   "execution_count": 26,
   "id": "c090295d",
   "metadata": {},
   "outputs": [
    {
     "data": {
      "text/plain": [
       "От 107515 до 143707    5577\n",
       "До 107515              5334\n",
       "От 143707 до 198307    5271\n",
       "Больше 198307          5149\n",
       "Name: income_quantile_category, dtype: int64"
      ]
     },
     "execution_count": 26,
     "metadata": {},
     "output_type": "execute_result"
    }
   ],
   "source": [
    "\n",
    "def make_income_category_by_quantile(total_income):\n",
    "    if total_income < 107515.5:\n",
    "        return 'До 107515'\n",
    "    if 107515.5 <= total_income < 143707.5:\n",
    "        return 'От 107515 до 143707'\n",
    "    if 143707.5 <= total_income < 198307:\n",
    "        return 'От 143707 до 198307'\n",
    "    return 'Больше 198307'\n",
    "\n",
    "data['income_quantile_category'] = data['total_income'].apply(make_income_category_by_quantile)\n",
    "\n",
    "# проверим, что все ок\n",
    "data['income_quantile_category'].value_counts()"
   ]
  },
  {
   "cell_type": "code",
   "execution_count": 27,
   "id": "96c790cd",
   "metadata": {
    "scrolled": true
   },
   "outputs": [
    {
     "data": {
      "text/html": [
       "<div>\n",
       "<style scoped>\n",
       "    .dataframe tbody tr th:only-of-type {\n",
       "        vertical-align: middle;\n",
       "    }\n",
       "\n",
       "    .dataframe tbody tr th {\n",
       "        vertical-align: top;\n",
       "    }\n",
       "\n",
       "    .dataframe thead tr th {\n",
       "        text-align: left;\n",
       "    }\n",
       "\n",
       "    .dataframe thead tr:last-of-type th {\n",
       "        text-align: right;\n",
       "    }\n",
       "</style>\n",
       "<table border=\"1\" class=\"dataframe\">\n",
       "  <thead>\n",
       "    <tr>\n",
       "      <th></th>\n",
       "      <th>sum</th>\n",
       "      <th>count</th>\n",
       "      <th>make_proportion</th>\n",
       "    </tr>\n",
       "    <tr>\n",
       "      <th></th>\n",
       "      <th>debt</th>\n",
       "      <th>debt</th>\n",
       "      <th>debt</th>\n",
       "    </tr>\n",
       "    <tr>\n",
       "      <th>income_category</th>\n",
       "      <th></th>\n",
       "      <th></th>\n",
       "      <th></th>\n",
       "    </tr>\n",
       "  </thead>\n",
       "  <tbody>\n",
       "    <tr>\n",
       "      <th>До 50000</th>\n",
       "      <td>23</td>\n",
       "      <td>371</td>\n",
       "      <td>6.2%</td>\n",
       "    </tr>\n",
       "    <tr>\n",
       "      <th>Больше 500</th>\n",
       "      <td>14</td>\n",
       "      <td>222</td>\n",
       "      <td>6.31%</td>\n",
       "    </tr>\n",
       "    <tr>\n",
       "      <th>От 200 до 500</th>\n",
       "      <td>342</td>\n",
       "      <td>4817</td>\n",
       "      <td>7.1%</td>\n",
       "    </tr>\n",
       "    <tr>\n",
       "      <th>От 50 до 100</th>\n",
       "      <td>331</td>\n",
       "      <td>4073</td>\n",
       "      <td>8.13%</td>\n",
       "    </tr>\n",
       "    <tr>\n",
       "      <th>От 150 до 200</th>\n",
       "      <td>403</td>\n",
       "      <td>4738</td>\n",
       "      <td>8.51%</td>\n",
       "    </tr>\n",
       "    <tr>\n",
       "      <th>От 100 до 150</th>\n",
       "      <td>619</td>\n",
       "      <td>7110</td>\n",
       "      <td>8.71%</td>\n",
       "    </tr>\n",
       "  </tbody>\n",
       "</table>\n",
       "</div>"
      ],
      "text/plain": [
       "                 sum count make_proportion\n",
       "                debt  debt            debt\n",
       "income_category                           \n",
       "До 50000          23   371            6.2%\n",
       "Больше 500        14   222           6.31%\n",
       "От 200 до 500    342  4817            7.1%\n",
       "От 50 до 100     331  4073           8.13%\n",
       "От 150 до 200    403  4738           8.51%\n",
       "От 100 до 150    619  7110           8.71%"
      ]
     },
     "execution_count": 27,
     "metadata": {},
     "output_type": "execute_result"
    }
   ],
   "source": [
    "# уровень дохода также нужно определять конкретными категориями, иначе никакого анализа не получится\n",
    "# к тому же в нашем случае разброс от 20 тысяч до 2+ миллионов\n",
    "# будем использовать следующие: до 50, от 50 до 100, от 100 до 150, от 150 до 200, от 200 до 500, от 500 и выше\n",
    "\n",
    "def make_income_category(total_income):\n",
    "    if total_income < 50000:\n",
    "        return 'До 50000'\n",
    "    if 50000 <= total_income < 100000:\n",
    "        return 'От 50 до 100'\n",
    "    if 100000 <= total_income < 150000:\n",
    "        return 'От 100 до 150'\n",
    "    if 150000 <= total_income < 200000:\n",
    "        return 'От 150 до 200'\n",
    "    if 200000 <= total_income < 500000:\n",
    "        return 'От 200 до 500'\n",
    "    return 'Больше 500'\n",
    "\n",
    "\n",
    "data['income_category'] = data['total_income'].apply(make_income_category)\n",
    "\n",
    "# проверим, что все ок\n",
    "data['income_category'].value_counts()\n",
    "\n",
    "# функция, что посчитает нам отношение в процентах\n",
    "def make_proportion(pdSerises):\n",
    "    return str(round((pdSerises.sum() / pdSerises.count()) * 100, 2)) + '%'\n",
    "\n",
    "# построим сводную таблицу для ответа на вопрос\n",
    "data_pivot = data.pivot_table(index=['income_category'], values=[\"debt\"], aggfunc=['sum', 'count', make_proportion])\n",
    "\n",
    "# сортируем, чтобы сразу видеть у кого ситуация лучше\n",
    "data_pivot = data_pivot.sort_values(by=('make_proportion', 'debt'))\n",
    "data_pivot"
   ]
  },
  {
   "cell_type": "markdown",
   "id": "b83d9258",
   "metadata": {},
   "source": [
    "<div class=\"alert alert-danger\">\n",
    "<h1> Комментарий ревьюера V2❌</h1>\n",
    "\n",
    "Еще что-то не работает. Нужно проверить еще раз.\n",
    "\n",
    "</div>"
   ]
  },
  {
   "cell_type": "markdown",
   "id": "95f27097",
   "metadata": {},
   "source": [
    "<div class=\"alert alert-danger\">\n",
    "<h1> Комментарий ревьюера ❌</h1>\n",
    "\n",
    "Код не работает. Нужно починить)\n",
    "\n",
    "</div>"
   ]
  },
  {
   "cell_type": "markdown",
   "id": "29084af5",
   "metadata": {
    "deletable": false,
    "id": "e8593def"
   },
   "source": [
    "**Вывод:** видно, что чем больше денег и чем меньше, тем меньше возникает просрочек. Однако тот факт, что до 50к просрочек еще меньше и что количество заявок, как при низком доходе, так и при высоком, маленькое - по этим данным не видно.\n",
    "\n",
    "Также разница между конкретно этими группами оказалась не настолько очевидной и не позволяет сделать вывод о силе тенденции. Однако, инструмент очень удобен для старта и общего анализа данных."
   ]
  },
  {
   "cell_type": "markdown",
   "id": "2b49f5d3",
   "metadata": {},
   "source": [
    "<div class=\"alert alert-success\">\n",
    "<h1> Комментарий ревьюера V3✅</h1>\n",
    "\n",
    "В целом да. Хуже всех платят заемщики, доход которых располагается где-то посередине. С низким и высоким доходом, плятат лучше.\n",
    "\n",
    "</div>"
   ]
  },
  {
   "cell_type": "markdown",
   "id": "7a518d6e",
   "metadata": {},
   "source": [
    "<div class=\"alert alert-warning\">\n",
    "<h1> Комментарий ревьюера V2💡</h1>\n",
    "\n",
    "В расчетах ты используешь квантили, и в границах квантилей нет суммы в 50к. Уточни пожалуйста вывод, после того как поправишь код.\n",
    "\n",
    "</div>"
   ]
  },
  {
   "cell_type": "markdown",
   "id": "01e5a850",
   "metadata": {},
   "source": [
    "<div class=\"alert alert-warning\">\n",
    "<h1> Комментарий ревьюера💡</h1>\n",
    "\n",
    "Проверим вывод позднее, когда код заработает.\n",
    "\n",
    "</div>"
   ]
  },
  {
   "cell_type": "markdown",
   "id": "1cf0bc17",
   "metadata": {
    "deletable": false,
    "editable": false,
    "id": "99ecbd1f"
   },
   "source": [
    "#### 3.4 Как разные цели кредита влияют на его возврат в срок?"
   ]
  },
  {
   "cell_type": "code",
   "execution_count": 28,
   "id": "2ca7083c",
   "metadata": {},
   "outputs": [
    {
     "data": {
      "text/html": [
       "<div>\n",
       "<style scoped>\n",
       "    .dataframe tbody tr th:only-of-type {\n",
       "        vertical-align: middle;\n",
       "    }\n",
       "\n",
       "    .dataframe tbody tr th {\n",
       "        vertical-align: top;\n",
       "    }\n",
       "\n",
       "    .dataframe thead th {\n",
       "        text-align: right;\n",
       "    }\n",
       "</style>\n",
       "<table border=\"1\" class=\"dataframe\">\n",
       "  <thead>\n",
       "    <tr style=\"text-align: right;\">\n",
       "      <th></th>\n",
       "      <th></th>\n",
       "      <th>debt</th>\n",
       "    </tr>\n",
       "    <tr>\n",
       "      <th>purpose_category</th>\n",
       "      <th>purpose</th>\n",
       "      <th></th>\n",
       "    </tr>\n",
       "  </thead>\n",
       "  <tbody>\n",
       "    <tr>\n",
       "      <th rowspan=\"3\" valign=\"top\">проведение свадьбы</th>\n",
       "      <th>свадьба</th>\n",
       "      <td>64</td>\n",
       "    </tr>\n",
       "    <tr>\n",
       "      <th>на проведение свадьбы</th>\n",
       "      <td>61</td>\n",
       "    </tr>\n",
       "    <tr>\n",
       "      <th>сыграть свадьбу</th>\n",
       "      <td>58</td>\n",
       "    </tr>\n",
       "    <tr>\n",
       "      <th rowspan=\"4\" valign=\"top\">операции с недвижимостью</th>\n",
       "      <th>операции с недвижимостью</th>\n",
       "      <td>55</td>\n",
       "    </tr>\n",
       "    <tr>\n",
       "      <th>строительство недвижимости</th>\n",
       "      <td>54</td>\n",
       "    </tr>\n",
       "    <tr>\n",
       "      <th>операции с коммерческой недвижимостью</th>\n",
       "      <td>52</td>\n",
       "    </tr>\n",
       "    <tr>\n",
       "      <th>покупка жилья для сдачи</th>\n",
       "      <td>52</td>\n",
       "    </tr>\n",
       "    <tr>\n",
       "      <th>получение образования</th>\n",
       "      <th>получение дополнительного образования</th>\n",
       "      <td>51</td>\n",
       "    </tr>\n",
       "    <tr>\n",
       "      <th rowspan=\"2\" valign=\"top\">операции с автомобилем</th>\n",
       "      <th>сделка с подержанным автомобилем</th>\n",
       "      <td>51</td>\n",
       "    </tr>\n",
       "    <tr>\n",
       "      <th>сделка с автомобилем</th>\n",
       "      <td>50</td>\n",
       "    </tr>\n",
       "  </tbody>\n",
       "</table>\n",
       "</div>"
      ],
      "text/plain": [
       "                                                                debt\n",
       "purpose_category         purpose                                    \n",
       "проведение свадьбы       свадьба                                  64\n",
       "                         на проведение свадьбы                    61\n",
       "                         сыграть свадьбу                          58\n",
       "операции с недвижимостью операции с недвижимостью                 55\n",
       "                         строительство недвижимости               54\n",
       "                         операции с коммерческой недвижимостью    52\n",
       "                         покупка жилья для сдачи                  52\n",
       "получение образования    получение дополнительного образования    51\n",
       "операции с автомобилем   сделка с подержанным автомобилем         51\n",
       "                         сделка с автомобилем                     50"
      ]
     },
     "execution_count": 28,
     "metadata": {},
     "output_type": "execute_result"
    }
   ],
   "source": [
    "# Как разные цели кредита влияют на его возврат в срок?\n",
    "bank_clients_purpose = data.pivot_table(index=['purpose_category', 'purpose'], values='debt', aggfunc='sum')\n",
    "bank_clients_purpose.sort_values('debt', ascending=False).head(10)"
   ]
  },
  {
   "cell_type": "markdown",
   "id": "77c4d419",
   "metadata": {},
   "source": [
    "Основываясь на результатах этой таблицы, чаще всего должниками становятся в результате взятия кредита на проведение свадьбы и на покупку/строительство недвижимости. Но какими будут результаты, если сгрупировать данные по категории цели кредита и выявить долю должников в каждой из категорий?"
   ]
  },
  {
   "cell_type": "code",
   "execution_count": 29,
   "id": "3ed5769b",
   "metadata": {
    "deletable": false,
    "id": "2b687290"
   },
   "outputs": [
    {
     "data": {
      "text/html": [
       "<div>\n",
       "<style scoped>\n",
       "    .dataframe tbody tr th:only-of-type {\n",
       "        vertical-align: middle;\n",
       "    }\n",
       "\n",
       "    .dataframe tbody tr th {\n",
       "        vertical-align: top;\n",
       "    }\n",
       "\n",
       "    .dataframe thead th {\n",
       "        text-align: right;\n",
       "    }\n",
       "</style>\n",
       "<table border=\"1\" class=\"dataframe\">\n",
       "  <thead>\n",
       "    <tr style=\"text-align: right;\">\n",
       "      <th></th>\n",
       "      <th>mean, %</th>\n",
       "    </tr>\n",
       "    <tr>\n",
       "      <th>purpose_category</th>\n",
       "      <th></th>\n",
       "    </tr>\n",
       "  </thead>\n",
       "  <tbody>\n",
       "    <tr>\n",
       "      <th>операции с автомобилем</th>\n",
       "      <td>9.347978</td>\n",
       "    </tr>\n",
       "    <tr>\n",
       "      <th>получение образования</th>\n",
       "      <td>9.252758</td>\n",
       "    </tr>\n",
       "    <tr>\n",
       "      <th>проведение свадьбы</th>\n",
       "      <td>7.911803</td>\n",
       "    </tr>\n",
       "    <tr>\n",
       "      <th>операции с недвижимостью</th>\n",
       "      <td>7.255139</td>\n",
       "    </tr>\n",
       "  </tbody>\n",
       "</table>\n",
       "</div>"
      ],
      "text/plain": [
       "                           mean, %\n",
       "purpose_category                  \n",
       "операции с автомобилем    9.347978\n",
       "получение образования     9.252758\n",
       "проведение свадьбы        7.911803\n",
       "операции с недвижимостью  7.255139"
      ]
     },
     "execution_count": 29,
     "metadata": {},
     "output_type": "execute_result"
    }
   ],
   "source": [
    "# сгрупируем данные по категории цели кредит\n",
    "debtors_purpose = data[['purpose_category', 'purpose', 'debt']]\n",
    "debtors_purpose_grouped = debtors_purpose.groupby('purpose_category').count()\n",
    "debtors_purpose_grouped['number'] = debtors_purpose.loc[debtors_purpose['debt'] == 1].groupby('purpose_category').sum()\n",
    "debtors_purpose_grouped['mean, %'] = debtors_purpose_grouped['number'] / debtors_purpose_grouped['debt'] * 100\n",
    "debtors_purpose_grouped[['mean, %']].sort_values('mean, %', ascending=False)"
   ]
  },
  {
   "cell_type": "markdown",
   "id": "654627e7",
   "metadata": {
    "deletable": false,
    "id": "b4bb2ce6"
   },
   "source": [
    "**Вывод:** В результате группирования по категории цели кредита видим, что количество должников в категориях \"автомобиль\" и \"образование\" выделяется в большую сторону. И, хотя при первой проверке сильно выделялись категории \"свадьба\" и \"недвижимость\", при использовании относительных величин картина изменилась."
   ]
  },
  {
   "cell_type": "markdown",
   "id": "917f1a57",
   "metadata": {},
   "source": [
    "<div class=\"alert alert-success\">\n",
    "<h1> Комментарий ревьюера✅</h1>\n",
    "\n",
    "Верно, смотреть лучше на относительные показатели. Кредиты на свадьбу и ипотеки выплачивают лучше.\n",
    "\n",
    "</div>"
   ]
  },
  {
   "cell_type": "markdown",
   "id": "97efe0ed",
   "metadata": {
    "deletable": false,
    "editable": false,
    "id": "09c3ac4c"
   },
   "source": [
    "#### 3.5 Приведите возможные причины появления пропусков в исходных данных."
   ]
  },
  {
   "cell_type": "markdown",
   "id": "d23e7194",
   "metadata": {
    "deletable": false,
    "id": "9da2ceda"
   },
   "source": [
    "*Ответ:* Причинами могут быть ошибки ввода данных, сокрытие информации."
   ]
  },
  {
   "cell_type": "markdown",
   "id": "66bce7a2",
   "metadata": {},
   "source": [
    "<div class=\"alert alert-success\">\n",
    "<h1> Комментарий ревьюера✅</h1>\n",
    "\n",
    "Да, или у заемщиков не было дохода и стажа на момент заполнения анкеты.\n",
    "\n",
    "</div>"
   ]
  },
  {
   "cell_type": "markdown",
   "id": "a0e2e5cb",
   "metadata": {
    "deletable": false,
    "editable": false,
    "id": "7b0487d6"
   },
   "source": [
    "#### 3.6 Объясните, почему заполнить пропуски медианным значением — лучшее решение для количественных переменных."
   ]
  },
  {
   "cell_type": "markdown",
   "id": "bce95f85",
   "metadata": {
    "deletable": false,
    "id": "7ecf2b8e"
   },
   "source": [
    "*Ответ:* Медиана более робастная характеристика, так как на нее не влияют случайные выбросы и шум. К тому же, если данные имеют нормальное распределение и их количество велико, то медиана будет равняться среднему значению."
   ]
  },
  {
   "cell_type": "markdown",
   "id": "3a41241f",
   "metadata": {},
   "source": [
    "<div class=\"alert alert-success\">\n",
    "<h1> Комментарий ревьюера✅</h1>\n",
    "\n",
    "Верно. Медиана более устойчива к выбросам.\n",
    "\n",
    "</div>"
   ]
  },
  {
   "cell_type": "markdown",
   "id": "61a7796d",
   "metadata": {
    "deletable": false,
    "editable": false,
    "id": "6db5255a"
   },
   "source": [
    "### Шаг 4: общий вывод."
   ]
  },
  {
   "cell_type": "markdown",
   "id": "5fce581a",
   "metadata": {
    "deletable": false,
    "id": "bad65432"
   },
   "source": [
    "Самый идеальный заемщик - это человек без детей, состоящий или состоявший в официальных отношениях, имеющий уровень дохода выше среднего и берущий деньги на недвижимость.\n",
    "\n",
    "\"Разброс\" просроченных выплат по каждой из категорий примерно одинаковый. В среднем, это диапазоны от 7 до 9 процентов.\n",
    "\n",
    "***Детально по категориям:***\n",
    "\n",
    "**Влияние наличия детей на вероятность просрочки платежа**\n",
    "\n",
    "*По наличию детей*\n",
    "\n",
    "Нет детей - 7.5%\n",
    "\n",
    " Есть дети – 9.2 %\n",
    " \n",
    "**Влияние семейного положения на вероятность просрочки платежа**\n",
    "\n",
    "*По семейному положению*\n",
    "\n",
    "вдовец / вдова - 6.62%\n",
    "в разводе - 7.06%\n",
    "\n",
    "женат / замужем - 7.56%\n",
    "\n",
    "гражданский брак - 9.31%\n",
    "\n",
    "не женат / не замужем - 9.76%\n",
    "\n",
    "**Влияние уровня дохода на просрочку платежа**\n",
    "\n",
    "*По уровню дохода*\n",
    "\n",
    "Больше 198307–7.05%\n",
    "\n",
    "До 107515–8.01%\n",
    "\n",
    "От 143707 до 198307–8.48%\n",
    "\n",
    "От 107515 до 143707–8.88%\n",
    "\n",
    "**Влияние цели кредита на вероятность возврата кредита в срок**\n",
    "\n",
    "*По цели кредита*\n",
    "\n",
    "недвижимость - 7.23%\n",
    "\n",
    "свадьба - 8.0%\n",
    "\n",
    "образование - 9.22%\n",
    "\n",
    "автомобиль - 9.36%\n",
    "\n",
    "Таким образом, несмотря на схожий в процентном отношении разброс значений, наибольшее влияние на вероятность просрочки показывает именно семейное положение. Во вторую очередь следует обращать внимание на уровень дохода. Наименьшее влияние оказывают цели кредита и наличие детей.\n"
   ]
  },
  {
   "cell_type": "markdown",
   "id": "041d2674",
   "metadata": {},
   "source": [
    "<div class=\"alert alert-success\">\n",
    "<h1> Комментарий ревьюера V2✅</h1>\n",
    "\n",
    "Отлично. Вывод стал лучше.\n",
    "\n",
    "</div>"
   ]
  },
  {
   "cell_type": "markdown",
   "id": "1b5352f3",
   "metadata": {},
   "source": [
    "<div class=\"alert alert-danger\">\n",
    "<h1> Комментарий ревьюера ❌</h1>\n",
    "\n",
    "Общий вывод - финальная часть всего исследования. В нем следует отразить с какими данными и для кого проводилась работа. Какие были выявлены проблемы в данных и как эти проблемы были решены. Какие еще шаги были предприняты и какие были получены результаты. Также неплохо было бы дать рекомендации заказчику по работе с данными, чтобы в будущем иметь меньше проблем.\n",
    "\n",
    "</div>"
   ]
  },
  {
   "cell_type": "markdown",
   "id": "e94e80c0",
   "metadata": {},
   "source": [
    "<div class=\"alert alert-warning\">\n",
    "<h1> Общий комментарий </h1>\n",
    "\n",
    "Неплохая работа. Ты получил ответы на вопросы, при этом использовал различные инструменты для расчетов и конструкции питона и инструменты пандас.\n",
    "    \n",
    "Есть несколько недочетов, которые нужно устранить, прежде чем я приму твою работу.\n",
    "    \n",
    "Что нужно поправить:\n",
    "    \n",
    "- поправить код, одна ячейка не запускается.\n",
    "- дополнить общий вывод.\n",
    "    \n",
    "Жду твою работу на повторную проверку, если у тебя есть вопросы, не стесняйся их задавать)\n",
    "\n",
    "</div>"
   ]
  },
  {
   "cell_type": "markdown",
   "id": "008ea724",
   "metadata": {},
   "source": [
    "<div class=\"alert alert-warning\">\n",
    "<h1> Общий комментарий V2💡</h1>\n",
    "\n",
    "Спасибо за твои доработки, я вижу, что ты решил применить интересный подход к анализу и разбить клиентов по доходу с помощью квантилей. Это хорошее решение.\n",
    "    \n",
    "Возможно некоторые изменения не сохранились, ячейка с кодом опять не запускается. Проверь пожалуйста ее еще раз. И уточни промежуточный вывод, чтобы он соответствовал твоим расчетам.\n",
    "    \n",
    "Жду проект на следующую итерацию.\n",
    "\n",
    "</div>"
   ]
  },
  {
   "cell_type": "markdown",
   "id": "e58690f9",
   "metadata": {},
   "source": [
    "<div style=\"border:solid blue 3px; padding: 20px\">\n",
    "<div class=\"alert alert-info\">\n",
    "\n",
    "**Комментарий студента**\n",
    "Ошибки из-за невнимательности: сначала пробую прописывать все локально. а после переношу код сюда.... \n",
    "Главный минус - делаю вс ночью, когда мозг почти не варит  😅\n",
    "</div>\n",
    "</div>"
   ]
  },
  {
   "attachments": {
    "image.png": {
     "image/png": "[encoded data removed]"
    }
   },
   "cell_type": "markdown",
   "id": "a60f3e19",
   "metadata": {},
   "source": [
    "<div class=\"alert alert-warning\">\n",
    "<h1> Комментарий ревьюера V3💡</h1>\n",
    "\n",
    "Наверно можно делать прямо здесь) Чтобы работа была в одном месте и не пришлось ее переносить)\n",
    "    \n",
    "При переносе действительно могут возникать проблемы.\n",
    "    \n",
    "Перед отправкой стоит всегда сохранить проект и проверить его работоспособность - перезапустить ядро и выполнить все ячейки.\n",
    "    \n",
    "Вот этой кнопкой:\n",
    "\n",
    "![image.png](attachment:image.png)\n",
    "\n",
    "</div>"
   ]
  },
  {
   "cell_type": "markdown",
   "id": "e510e84c",
   "metadata": {},
   "source": [
    "<div class=\"alert alert-success\">\n",
    "<h1> Финальный комментарий </h1>\n",
    "\n",
    "Теперь все критические замечания устранены.\n",
    "    \n",
    "Я принимаю твою работу и желаю удачи в дальнейшем обучении)\n",
    "    \n",
    "Не забывай корректировать вывод, после того как корректируешь расчеты)\n",
    "\n",
    "</div>"
   ]
  },
  {
   "cell_type": "code",
   "execution_count": null,
   "id": "a3bb8224",
   "metadata": {},
   "outputs": [],
   "source": []
  }
 ],
 "metadata": {
  "ExecuteTimeLog": [
   {
    "duration": 486,
    "start_time": "2022-11-20T05:22:14.197Z"
   },
   {
    "duration": 67,
    "start_time": "2022-11-20T05:22:17.548Z"
   },
   {
    "duration": 68,
    "start_time": "2022-11-20T05:22:21.589Z"
   },
   {
    "duration": 21,
    "start_time": "2022-11-20T05:22:32.100Z"
   },
   {
    "duration": 14,
    "start_time": "2022-11-20T05:23:14.869Z"
   },
   {
    "duration": 10,
    "start_time": "2022-11-20T05:23:21.013Z"
   },
   {
    "duration": 38,
    "start_time": "2022-11-20T05:23:25.269Z"
   },
   {
    "duration": 4,
    "start_time": "2022-11-20T05:23:31.924Z"
   },
   {
    "duration": 7,
    "start_time": "2022-11-20T05:23:35.333Z"
   },
   {
    "duration": 4,
    "start_time": "2022-11-20T05:23:38.837Z"
   },
   {
    "duration": 7,
    "start_time": "2022-11-20T05:23:43.253Z"
   },
   {
    "duration": 5,
    "start_time": "2022-11-20T05:23:46.901Z"
   },
   {
    "duration": 34,
    "start_time": "2022-11-20T05:23:50.509Z"
   },
   {
    "duration": 10,
    "start_time": "2022-11-20T05:23:53.333Z"
   },
   {
    "duration": 4,
    "start_time": "2022-11-20T05:23:57.126Z"
   },
   {
    "duration": 11,
    "start_time": "2022-11-20T05:24:00.781Z"
   },
   {
    "duration": 23,
    "start_time": "2022-11-20T05:24:05.293Z"
   },
   {
    "duration": 16,
    "start_time": "2022-11-20T05:24:07.717Z"
   },
   {
    "duration": 3,
    "start_time": "2022-11-20T05:24:13.158Z"
   },
   {
    "duration": 10,
    "start_time": "2022-11-20T05:24:17.061Z"
   },
   {
    "duration": 6,
    "start_time": "2022-11-20T05:24:20.166Z"
   },
   {
    "duration": 3,
    "start_time": "2022-11-20T05:24:34.031Z"
   },
   {
    "duration": 7,
    "start_time": "2022-11-20T05:24:36.486Z"
   },
   {
    "duration": 63,
    "start_time": "2022-11-20T05:26:44.950Z"
   },
   {
    "duration": 18,
    "start_time": "2022-11-20T05:27:00.846Z"
   },
   {
    "duration": 13,
    "start_time": "2022-11-20T05:28:55.264Z"
   },
   {
    "duration": 26,
    "start_time": "2022-11-20T05:29:18.712Z"
   },
   {
    "duration": 17,
    "start_time": "2022-11-20T05:30:13.711Z"
   },
   {
    "duration": 14,
    "start_time": "2022-11-20T05:30:19.607Z"
   },
   {
    "duration": 9,
    "start_time": "2022-11-20T05:32:47.952Z"
   },
   {
    "duration": 13,
    "start_time": "2022-11-20T05:33:08.136Z"
   },
   {
    "duration": 693,
    "start_time": "2022-11-20T05:34:15.792Z"
   },
   {
    "duration": 16,
    "start_time": "2022-11-20T05:35:19.345Z"
   },
   {
    "duration": 14,
    "start_time": "2022-11-20T05:35:20.008Z"
   },
   {
    "duration": 10,
    "start_time": "2022-11-20T05:35:23.193Z"
   },
   {
    "duration": 8,
    "start_time": "2022-11-20T05:37:26.113Z"
   },
   {
    "duration": 8,
    "start_time": "2022-11-20T05:37:55.569Z"
   },
   {
    "duration": 692,
    "start_time": "2022-11-20T05:40:56.851Z"
   },
   {
    "duration": 740,
    "start_time": "2022-11-20T05:41:40.843Z"
   },
   {
    "duration": 12,
    "start_time": "2022-11-20T05:42:56.092Z"
   },
   {
    "duration": 686,
    "start_time": "2022-11-20T05:43:09.243Z"
   },
   {
    "duration": 11,
    "start_time": "2022-11-20T05:43:30.843Z"
   },
   {
    "duration": 17,
    "start_time": "2022-11-20T05:43:36.915Z"
   },
   {
    "duration": 13,
    "start_time": "2022-11-20T05:43:37.635Z"
   },
   {
    "duration": 11,
    "start_time": "2022-11-20T05:43:48.580Z"
   },
   {
    "duration": 17,
    "start_time": "2022-11-20T05:44:12.076Z"
   },
   {
    "duration": 8,
    "start_time": "2022-11-20T05:47:20.765Z"
   },
   {
    "duration": 12,
    "start_time": "2022-11-20T05:47:29.220Z"
   },
   {
    "duration": 15,
    "start_time": "2022-11-20T05:48:17.381Z"
   },
   {
    "duration": 15,
    "start_time": "2022-11-20T05:49:16.845Z"
   },
   {
    "duration": 14,
    "start_time": "2022-11-20T05:50:16.349Z"
   },
   {
    "duration": 14,
    "start_time": "2022-11-20T05:50:48.085Z"
   },
   {
    "duration": 1145,
    "start_time": "2022-11-20T05:51:00.966Z"
   },
   {
    "duration": 15,
    "start_time": "2022-11-20T05:51:21.776Z"
   },
   {
    "duration": 814,
    "start_time": "2022-11-20T05:53:44.670Z"
   },
   {
    "duration": 512,
    "start_time": "2022-11-20T05:54:11.022Z"
   },
   {
    "duration": 496,
    "start_time": "2022-11-20T05:54:17.646Z"
   },
   {
    "duration": 74,
    "start_time": "2022-11-20T05:54:39.223Z"
   },
   {
    "duration": 14,
    "start_time": "2022-11-20T05:54:41.526Z"
   },
   {
    "duration": 14,
    "start_time": "2022-11-20T05:54:44.710Z"
   },
   {
    "duration": 10,
    "start_time": "2022-11-20T05:54:47.479Z"
   },
   {
    "duration": 36,
    "start_time": "2022-11-20T05:54:50.102Z"
   },
   {
    "duration": 3,
    "start_time": "2022-11-20T05:54:52.929Z"
   },
   {
    "duration": 8,
    "start_time": "2022-11-20T05:54:54.782Z"
   },
   {
    "duration": 5,
    "start_time": "2022-11-20T05:54:57.334Z"
   },
   {
    "duration": 5,
    "start_time": "2022-11-20T05:54:59.839Z"
   },
   {
    "duration": 4,
    "start_time": "2022-11-20T05:55:01.999Z"
   },
   {
    "duration": 31,
    "start_time": "2022-11-20T05:55:04.526Z"
   },
   {
    "duration": 9,
    "start_time": "2022-11-20T05:55:06.974Z"
   },
   {
    "duration": 4,
    "start_time": "2022-11-20T05:55:10.654Z"
   },
   {
    "duration": 10,
    "start_time": "2022-11-20T05:55:13.390Z"
   },
   {
    "duration": 23,
    "start_time": "2022-11-20T05:55:15.678Z"
   },
   {
    "duration": 17,
    "start_time": "2022-11-20T05:55:19.029Z"
   },
   {
    "duration": 3,
    "start_time": "2022-11-20T05:55:22.711Z"
   },
   {
    "duration": 10,
    "start_time": "2022-11-20T05:55:24.990Z"
   },
   {
    "duration": 5,
    "start_time": "2022-11-20T05:55:27.799Z"
   },
   {
    "duration": 4,
    "start_time": "2022-11-20T05:55:30.942Z"
   },
   {
    "duration": 10,
    "start_time": "2022-11-20T05:55:34.574Z"
   },
   {
    "duration": 19,
    "start_time": "2022-11-20T05:55:39.367Z"
   },
   {
    "duration": 17,
    "start_time": "2022-11-20T05:55:41.543Z"
   },
   {
    "duration": 16,
    "start_time": "2022-11-20T05:55:44.807Z"
   },
   {
    "duration": 602,
    "start_time": "2022-11-20T05:55:49.176Z"
   },
   {
    "duration": 10,
    "start_time": "2022-11-20T05:59:31.320Z"
   },
   {
    "duration": 14,
    "start_time": "2022-11-20T06:00:24.072Z"
   },
   {
    "duration": 16,
    "start_time": "2022-11-20T06:01:00.704Z"
   },
   {
    "duration": 563,
    "start_time": "2022-11-20T06:01:32.025Z"
   },
   {
    "duration": 526,
    "start_time": "2022-11-20T06:02:29.417Z"
   },
   {
    "duration": 58,
    "start_time": "2022-11-20T06:02:39.561Z"
   },
   {
    "duration": 607,
    "start_time": "2022-11-20T06:08:37.051Z"
   },
   {
    "duration": 51,
    "start_time": "2022-11-20T06:10:09.796Z"
   },
   {
    "duration": 534,
    "start_time": "2022-11-20T06:12:19.012Z"
   },
   {
    "duration": 587,
    "start_time": "2022-11-20T06:12:43.580Z"
   },
   {
    "duration": 574,
    "start_time": "2022-11-20T06:13:28.972Z"
   },
   {
    "duration": 550,
    "start_time": "2022-11-20T06:14:35.765Z"
   },
   {
    "duration": 9,
    "start_time": "2022-11-20T06:18:13.310Z"
   },
   {
    "duration": 11,
    "start_time": "2022-11-20T06:18:22.630Z"
   },
   {
    "duration": 16,
    "start_time": "2022-11-20T06:19:00.550Z"
   },
   {
    "duration": 15,
    "start_time": "2022-11-20T06:20:04.271Z"
   },
   {
    "duration": 8,
    "start_time": "2022-11-20T06:23:19.303Z"
   },
   {
    "duration": 8,
    "start_time": "2022-11-20T06:26:57.841Z"
   },
   {
    "duration": 14,
    "start_time": "2022-11-20T06:27:27.920Z"
   },
   {
    "duration": 14,
    "start_time": "2022-11-20T06:29:26.440Z"
   },
   {
    "duration": 40,
    "start_time": "2022-11-20T06:31:18.426Z"
   },
   {
    "duration": 9,
    "start_time": "2022-11-20T06:31:47.986Z"
   },
   {
    "duration": 9,
    "start_time": "2022-11-20T06:32:04.307Z"
   },
   {
    "duration": 7,
    "start_time": "2022-11-20T06:33:57.555Z"
   },
   {
    "duration": 17,
    "start_time": "2022-11-20T06:34:04.482Z"
   },
   {
    "duration": 8,
    "start_time": "2022-11-20T06:35:32.899Z"
   },
   {
    "duration": 16,
    "start_time": "2022-11-20T06:35:44.619Z"
   },
   {
    "duration": 7,
    "start_time": "2022-11-20T06:35:55.739Z"
   },
   {
    "duration": 12,
    "start_time": "2022-11-20T06:36:10.755Z"
   },
   {
    "duration": 8,
    "start_time": "2022-11-20T06:39:44.636Z"
   },
   {
    "duration": 19,
    "start_time": "2022-11-20T06:39:53.293Z"
   },
   {
    "duration": 8,
    "start_time": "2022-11-20T06:41:39.363Z"
   },
   {
    "duration": 17,
    "start_time": "2022-11-20T06:41:46.437Z"
   },
   {
    "duration": 22,
    "start_time": "2022-11-20T06:42:50.076Z"
   },
   {
    "duration": 18,
    "start_time": "2022-11-20T06:42:52.988Z"
   },
   {
    "duration": 18,
    "start_time": "2022-11-20T06:43:36.046Z"
   },
   {
    "duration": 453,
    "start_time": "2022-11-20T15:15:23.037Z"
   },
   {
    "duration": 32,
    "start_time": "2022-11-20T15:15:23.492Z"
   },
   {
    "duration": 22,
    "start_time": "2022-11-20T15:15:23.526Z"
   },
   {
    "duration": 10,
    "start_time": "2022-11-20T15:15:23.550Z"
   },
   {
    "duration": 60,
    "start_time": "2022-11-20T15:15:23.562Z"
   },
   {
    "duration": 3,
    "start_time": "2022-11-20T15:15:23.623Z"
   },
   {
    "duration": 12,
    "start_time": "2022-11-20T15:15:23.628Z"
   },
   {
    "duration": 4,
    "start_time": "2022-11-20T15:15:23.642Z"
   },
   {
    "duration": 7,
    "start_time": "2022-11-20T15:15:23.648Z"
   },
   {
    "duration": 4,
    "start_time": "2022-11-20T15:15:23.659Z"
   },
   {
    "duration": 64,
    "start_time": "2022-11-20T15:15:23.664Z"
   },
   {
    "duration": 9,
    "start_time": "2022-11-20T15:15:23.729Z"
   },
   {
    "duration": 4,
    "start_time": "2022-11-20T15:15:23.740Z"
   },
   {
    "duration": 11,
    "start_time": "2022-11-20T15:15:23.746Z"
   },
   {
    "duration": 18,
    "start_time": "2022-11-20T15:15:23.758Z"
   },
   {
    "duration": 24,
    "start_time": "2022-11-20T15:15:23.797Z"
   },
   {
    "duration": 3,
    "start_time": "2022-11-20T15:15:23.822Z"
   },
   {
    "duration": 17,
    "start_time": "2022-11-20T15:15:23.826Z"
   },
   {
    "duration": 8,
    "start_time": "2022-11-20T15:15:23.845Z"
   },
   {
    "duration": 3,
    "start_time": "2022-11-20T15:15:23.854Z"
   },
   {
    "duration": 15,
    "start_time": "2022-11-20T15:15:23.858Z"
   },
   {
    "duration": 28,
    "start_time": "2022-11-20T15:15:23.875Z"
   },
   {
    "duration": 37,
    "start_time": "2022-11-20T15:15:23.905Z"
   },
   {
    "duration": 102,
    "start_time": "2022-11-20T15:15:23.944Z"
   },
   {
    "duration": 0,
    "start_time": "2022-11-20T15:15:24.048Z"
   },
   {
    "duration": 0,
    "start_time": "2022-11-20T15:15:24.049Z"
   },
   {
    "duration": 20,
    "start_time": "2022-11-20T15:21:11.948Z"
   },
   {
    "duration": 19,
    "start_time": "2022-11-20T15:21:13.407Z"
   },
   {
    "duration": 426,
    "start_time": "2022-11-20T15:32:26.650Z"
   },
   {
    "duration": 20,
    "start_time": "2022-11-20T15:32:27.078Z"
   },
   {
    "duration": 14,
    "start_time": "2022-11-20T15:32:27.099Z"
   },
   {
    "duration": 19,
    "start_time": "2022-11-20T15:32:27.114Z"
   },
   {
    "duration": 34,
    "start_time": "2022-11-20T15:32:27.135Z"
   },
   {
    "duration": 3,
    "start_time": "2022-11-20T15:32:27.171Z"
   },
   {
    "duration": 24,
    "start_time": "2022-11-20T15:32:27.175Z"
   },
   {
    "duration": 10,
    "start_time": "2022-11-20T15:32:27.200Z"
   },
   {
    "duration": 21,
    "start_time": "2022-11-20T15:32:27.211Z"
   },
   {
    "duration": 13,
    "start_time": "2022-11-20T15:32:27.234Z"
   },
   {
    "duration": 45,
    "start_time": "2022-11-20T15:32:27.248Z"
   },
   {
    "duration": 11,
    "start_time": "2022-11-20T15:32:27.294Z"
   },
   {
    "duration": 8,
    "start_time": "2022-11-20T15:32:27.306Z"
   },
   {
    "duration": 17,
    "start_time": "2022-11-20T15:32:27.316Z"
   },
   {
    "duration": 30,
    "start_time": "2022-11-20T15:32:27.335Z"
   },
   {
    "duration": 15,
    "start_time": "2022-11-20T15:32:27.367Z"
   },
   {
    "duration": 5,
    "start_time": "2022-11-20T15:32:27.383Z"
   },
   {
    "duration": 15,
    "start_time": "2022-11-20T15:32:27.390Z"
   },
   {
    "duration": 17,
    "start_time": "2022-11-20T15:32:27.406Z"
   },
   {
    "duration": 14,
    "start_time": "2022-11-20T15:32:27.425Z"
   },
   {
    "duration": 17,
    "start_time": "2022-11-20T15:32:27.441Z"
   },
   {
    "duration": 14,
    "start_time": "2022-11-20T15:32:27.459Z"
   },
   {
    "duration": 29,
    "start_time": "2022-11-20T15:32:27.475Z"
   },
   {
    "duration": 70,
    "start_time": "2022-11-20T15:32:27.505Z"
   },
   {
    "duration": 0,
    "start_time": "2022-11-20T15:32:27.577Z"
   },
   {
    "duration": 0,
    "start_time": "2022-11-20T15:32:27.578Z"
   },
   {
    "duration": 693,
    "start_time": "2022-11-20T19:20:09.874Z"
   },
   {
    "duration": 21,
    "start_time": "2022-11-20T19:20:13.336Z"
   },
   {
    "duration": 14,
    "start_time": "2022-11-20T19:20:17.735Z"
   },
   {
    "duration": 11,
    "start_time": "2022-11-20T19:20:21.663Z"
   },
   {
    "duration": 33,
    "start_time": "2022-11-20T19:20:25.231Z"
   },
   {
    "duration": 3,
    "start_time": "2022-11-20T19:20:28.991Z"
   },
   {
    "duration": 8,
    "start_time": "2022-11-20T19:20:33.008Z"
   },
   {
    "duration": 4,
    "start_time": "2022-11-20T19:20:38.136Z"
   },
   {
    "duration": 6,
    "start_time": "2022-11-20T19:20:40.951Z"
   },
   {
    "duration": 4,
    "start_time": "2022-11-20T19:20:44.055Z"
   },
   {
    "duration": 34,
    "start_time": "2022-11-20T19:21:05.104Z"
   },
   {
    "duration": 14,
    "start_time": "2022-11-20T19:21:08.144Z"
   },
   {
    "duration": 4,
    "start_time": "2022-11-20T19:21:12.111Z"
   },
   {
    "duration": 11,
    "start_time": "2022-11-20T19:21:14.887Z"
   },
   {
    "duration": 18,
    "start_time": "2022-11-20T19:21:18.064Z"
   },
   {
    "duration": 17,
    "start_time": "2022-11-20T19:21:20.968Z"
   },
   {
    "duration": 3,
    "start_time": "2022-11-20T19:21:28.232Z"
   },
   {
    "duration": 9,
    "start_time": "2022-11-20T19:21:29.992Z"
   },
   {
    "duration": 5,
    "start_time": "2022-11-20T19:21:34.536Z"
   },
   {
    "duration": 3,
    "start_time": "2022-11-20T19:21:40.816Z"
   },
   {
    "duration": 13,
    "start_time": "2022-11-20T19:22:49.129Z"
   },
   {
    "duration": 65,
    "start_time": "2022-11-20T19:23:27.680Z"
   },
   {
    "duration": 9,
    "start_time": "2022-11-20T19:24:21.993Z"
   },
   {
    "duration": 9,
    "start_time": "2022-11-20T19:24:39.744Z"
   },
   {
    "duration": 16,
    "start_time": "2022-11-20T19:32:23.657Z"
   },
   {
    "duration": 10,
    "start_time": "2022-11-20T19:32:29.083Z"
   },
   {
    "duration": 8,
    "start_time": "2022-11-20T19:33:03.539Z"
   },
   {
    "duration": 10,
    "start_time": "2022-11-20T19:33:15.163Z"
   },
   {
    "duration": 212,
    "start_time": "2022-11-20T19:34:30.636Z"
   },
   {
    "duration": 19,
    "start_time": "2022-11-20T19:43:33.904Z"
   },
   {
    "duration": 731,
    "start_time": "2022-11-20T20:11:59.030Z"
   },
   {
    "duration": 668,
    "start_time": "2022-11-20T20:13:16.478Z"
   },
   {
    "duration": 8,
    "start_time": "2022-11-20T20:14:21.262Z"
   },
   {
    "duration": 724,
    "start_time": "2022-11-20T20:15:16.914Z"
   },
   {
    "duration": 10,
    "start_time": "2022-11-20T20:18:18.696Z"
   },
   {
    "duration": 16,
    "start_time": "2022-11-20T20:19:09.569Z"
   },
   {
    "duration": 18,
    "start_time": "2022-11-20T20:19:40.712Z"
   },
   {
    "duration": 139,
    "start_time": "2022-11-20T20:20:06.720Z"
   },
   {
    "duration": 174,
    "start_time": "2022-11-20T20:21:21.217Z"
   },
   {
    "duration": 151,
    "start_time": "2022-11-20T20:24:18.665Z"
   },
   {
    "duration": 170,
    "start_time": "2022-11-20T20:25:01.929Z"
   },
   {
    "duration": 181,
    "start_time": "2022-11-20T20:26:16.225Z"
   },
   {
    "duration": 7,
    "start_time": "2022-11-20T20:31:36.677Z"
   },
   {
    "duration": 8,
    "start_time": "2022-11-20T20:31:49.042Z"
   },
   {
    "duration": 14,
    "start_time": "2022-11-20T20:33:41.692Z"
   },
   {
    "duration": 13,
    "start_time": "2022-11-20T20:35:02.107Z"
   },
   {
    "duration": 14,
    "start_time": "2022-11-20T20:35:10.955Z"
   },
   {
    "duration": 8,
    "start_time": "2022-11-20T20:36:10.724Z"
   },
   {
    "duration": 15,
    "start_time": "2022-11-20T20:36:31.460Z"
   },
   {
    "duration": 1325,
    "start_time": "2022-11-20T20:41:35.238Z"
   },
   {
    "duration": 9,
    "start_time": "2022-11-20T20:48:13.526Z"
   },
   {
    "duration": 39,
    "start_time": "2022-11-20T20:48:46.804Z"
   },
   {
    "duration": 38,
    "start_time": "2022-11-20T20:48:54.200Z"
   },
   {
    "duration": 37,
    "start_time": "2022-11-20T20:51:36.153Z"
   },
   {
    "duration": 8,
    "start_time": "2022-11-20T20:52:45.642Z"
   },
   {
    "duration": 37,
    "start_time": "2022-11-20T20:52:58.288Z"
   },
   {
    "duration": 9,
    "start_time": "2022-11-20T20:54:10.265Z"
   },
   {
    "duration": 7,
    "start_time": "2022-11-20T20:54:13.536Z"
   },
   {
    "duration": 22,
    "start_time": "2022-11-20T20:54:16.731Z"
   },
   {
    "duration": 25,
    "start_time": "2022-11-20T20:54:20.449Z"
   },
   {
    "duration": 7,
    "start_time": "2022-11-20T20:55:13.817Z"
   },
   {
    "duration": 30,
    "start_time": "2022-11-20T20:55:25.703Z"
   },
   {
    "duration": 7,
    "start_time": "2022-11-20T20:58:11.074Z"
   },
   {
    "duration": 15,
    "start_time": "2022-11-20T20:58:20.042Z"
   },
   {
    "duration": 31,
    "start_time": "2022-11-20T21:00:55.147Z"
   },
   {
    "duration": 15,
    "start_time": "2022-11-20T21:01:11.250Z"
   },
   {
    "duration": 1290,
    "start_time": "2022-11-20T21:02:17.940Z"
   },
   {
    "duration": 14,
    "start_time": "2022-11-20T21:12:55.183Z"
   },
   {
    "duration": 10,
    "start_time": "2022-11-20T21:13:29.350Z"
   },
   {
    "duration": 675,
    "start_time": "2022-11-21T16:22:47.140Z"
   },
   {
    "duration": 24,
    "start_time": "2022-11-21T16:22:47.817Z"
   },
   {
    "duration": 16,
    "start_time": "2022-11-21T16:22:47.843Z"
   },
   {
    "duration": 11,
    "start_time": "2022-11-21T16:22:47.861Z"
   },
   {
    "duration": 58,
    "start_time": "2022-11-21T16:22:47.873Z"
   },
   {
    "duration": 3,
    "start_time": "2022-11-21T16:22:47.933Z"
   },
   {
    "duration": 10,
    "start_time": "2022-11-21T16:22:47.938Z"
   },
   {
    "duration": 4,
    "start_time": "2022-11-21T16:22:47.950Z"
   },
   {
    "duration": 10,
    "start_time": "2022-11-21T16:22:47.955Z"
   },
   {
    "duration": 5,
    "start_time": "2022-11-21T16:22:47.967Z"
   },
   {
    "duration": 64,
    "start_time": "2022-11-21T16:22:47.974Z"
   },
   {
    "duration": 9,
    "start_time": "2022-11-21T16:22:48.039Z"
   },
   {
    "duration": 5,
    "start_time": "2022-11-21T16:22:48.050Z"
   },
   {
    "duration": 12,
    "start_time": "2022-11-21T16:22:48.057Z"
   },
   {
    "duration": 41,
    "start_time": "2022-11-21T16:22:48.071Z"
   },
   {
    "duration": 18,
    "start_time": "2022-11-21T16:22:48.114Z"
   },
   {
    "duration": 4,
    "start_time": "2022-11-21T16:22:48.134Z"
   },
   {
    "duration": 16,
    "start_time": "2022-11-21T16:22:48.139Z"
   },
   {
    "duration": 9,
    "start_time": "2022-11-21T16:22:48.156Z"
   },
   {
    "duration": 8,
    "start_time": "2022-11-21T16:22:48.167Z"
   },
   {
    "duration": 14,
    "start_time": "2022-11-21T16:22:48.177Z"
   },
   {
    "duration": 28,
    "start_time": "2022-11-21T16:22:48.192Z"
   },
   {
    "duration": 18,
    "start_time": "2022-11-21T16:22:48.222Z"
   },
   {
    "duration": 8,
    "start_time": "2022-11-21T16:22:48.242Z"
   },
   {
    "duration": 6,
    "start_time": "2022-11-21T16:22:48.251Z"
   },
   {
    "duration": 17,
    "start_time": "2022-11-21T16:22:48.259Z"
   },
   {
    "duration": 65,
    "start_time": "2022-11-21T16:22:48.312Z"
   },
   {
    "duration": 0,
    "start_time": "2022-11-21T16:22:48.380Z"
   },
   {
    "duration": 0,
    "start_time": "2022-11-21T16:22:48.381Z"
   },
   {
    "duration": 482,
    "start_time": "2022-11-21T16:33:45.828Z"
   },
   {
    "duration": 25,
    "start_time": "2022-11-21T16:33:46.312Z"
   },
   {
    "duration": 23,
    "start_time": "2022-11-21T16:33:46.339Z"
   },
   {
    "duration": 14,
    "start_time": "2022-11-21T16:33:46.365Z"
   },
   {
    "duration": 78,
    "start_time": "2022-11-21T16:33:46.382Z"
   },
   {
    "duration": 4,
    "start_time": "2022-11-21T16:33:46.463Z"
   },
   {
    "duration": 18,
    "start_time": "2022-11-21T16:33:46.469Z"
   },
   {
    "duration": 8,
    "start_time": "2022-11-21T16:33:46.489Z"
   },
   {
    "duration": 12,
    "start_time": "2022-11-21T16:33:46.511Z"
   },
   {
    "duration": 12,
    "start_time": "2022-11-21T16:33:46.525Z"
   },
   {
    "duration": 51,
    "start_time": "2022-11-21T16:33:46.539Z"
   },
   {
    "duration": 28,
    "start_time": "2022-11-21T16:33:46.593Z"
   },
   {
    "duration": 12,
    "start_time": "2022-11-21T16:33:46.624Z"
   },
   {
    "duration": 20,
    "start_time": "2022-11-21T16:33:46.639Z"
   },
   {
    "duration": 26,
    "start_time": "2022-11-21T16:33:46.661Z"
   },
   {
    "duration": 23,
    "start_time": "2022-11-21T16:33:46.689Z"
   },
   {
    "duration": 4,
    "start_time": "2022-11-21T16:33:46.714Z"
   },
   {
    "duration": 14,
    "start_time": "2022-11-21T16:33:46.721Z"
   },
   {
    "duration": 8,
    "start_time": "2022-11-21T16:33:46.736Z"
   },
   {
    "duration": 10,
    "start_time": "2022-11-21T16:33:46.746Z"
   },
   {
    "duration": 11,
    "start_time": "2022-11-21T16:33:46.758Z"
   },
   {
    "duration": 18,
    "start_time": "2022-11-21T16:33:46.770Z"
   },
   {
    "duration": 18,
    "start_time": "2022-11-21T16:33:46.812Z"
   },
   {
    "duration": 9,
    "start_time": "2022-11-21T16:33:46.832Z"
   },
   {
    "duration": 14,
    "start_time": "2022-11-21T16:33:46.843Z"
   },
   {
    "duration": 16,
    "start_time": "2022-11-21T16:33:46.859Z"
   },
   {
    "duration": 92,
    "start_time": "2022-11-21T16:33:46.876Z"
   },
   {
    "duration": 0,
    "start_time": "2022-11-21T16:33:46.970Z"
   },
   {
    "duration": 0,
    "start_time": "2022-11-21T16:33:46.972Z"
   },
   {
    "duration": 530,
    "start_time": "2022-11-22T01:10:38.117Z"
   },
   {
    "duration": 16,
    "start_time": "2022-11-22T01:10:42.748Z"
   },
   {
    "duration": 16,
    "start_time": "2022-11-22T01:10:46.204Z"
   },
   {
    "duration": 38,
    "start_time": "2022-11-22T01:10:49.004Z"
   },
   {
    "duration": 4,
    "start_time": "2022-11-22T01:10:52.068Z"
   },
   {
    "duration": 8,
    "start_time": "2022-11-22T01:10:54.748Z"
   },
   {
    "duration": 5,
    "start_time": "2022-11-22T01:11:01.702Z"
   },
   {
    "duration": 8,
    "start_time": "2022-11-22T01:11:04.076Z"
   },
   {
    "duration": 4,
    "start_time": "2022-11-22T01:11:06.901Z"
   },
   {
    "duration": 36,
    "start_time": "2022-11-22T01:11:10.324Z"
   },
   {
    "duration": 41,
    "start_time": "2022-11-22T01:11:19.156Z"
   },
   {
    "duration": 11,
    "start_time": "2022-11-22T01:11:22.220Z"
   },
   {
    "duration": 4,
    "start_time": "2022-11-22T01:11:25.780Z"
   },
   {
    "duration": 12,
    "start_time": "2022-11-22T01:11:28.395Z"
   },
   {
    "duration": 20,
    "start_time": "2022-11-22T01:11:31.252Z"
   },
   {
    "duration": 19,
    "start_time": "2022-11-22T01:11:34.516Z"
   },
   {
    "duration": 4,
    "start_time": "2022-11-22T01:11:41.500Z"
   },
   {
    "duration": 11,
    "start_time": "2022-11-22T01:11:43.908Z"
   },
   {
    "duration": 6,
    "start_time": "2022-11-22T01:11:47.409Z"
   },
   {
    "duration": 4,
    "start_time": "2022-11-22T01:11:54.772Z"
   },
   {
    "duration": 12,
    "start_time": "2022-11-22T01:11:55.441Z"
   },
   {
    "duration": 15,
    "start_time": "2022-11-22T01:12:05.341Z"
   },
   {
    "duration": 21,
    "start_time": "2022-11-22T01:12:15.259Z"
   },
   {
    "duration": 11,
    "start_time": "2022-11-22T01:12:52.061Z"
   },
   {
    "duration": 8,
    "start_time": "2022-11-22T01:12:53.884Z"
   },
   {
    "duration": 20,
    "start_time": "2022-11-22T01:13:07.365Z"
   },
   {
    "duration": 63,
    "start_time": "2022-11-22T01:13:12.582Z"
   },
   {
    "duration": 8,
    "start_time": "2022-11-22T01:13:52.989Z"
   },
   {
    "duration": 37,
    "start_time": "2022-11-22T01:14:31.086Z"
   },
   {
    "duration": 26,
    "start_time": "2022-11-22T01:14:46.374Z"
   },
   {
    "duration": 34,
    "start_time": "2022-11-22T01:18:09.455Z"
   },
   {
    "duration": 21,
    "start_time": "2022-11-22T01:19:14.559Z"
   },
   {
    "duration": 16,
    "start_time": "2022-11-22T01:20:13.799Z"
   },
   {
    "duration": 13,
    "start_time": "2022-11-22T04:18:11.828Z"
   },
   {
    "duration": 28,
    "start_time": "2022-11-22T04:18:12.892Z"
   },
   {
    "duration": 28,
    "start_time": "2022-11-22T04:18:13.292Z"
   },
   {
    "duration": 82,
    "start_time": "2022-11-22T04:18:26.357Z"
   },
   {
    "duration": 16,
    "start_time": "2022-11-22T04:18:27.307Z"
   },
   {
    "duration": 16,
    "start_time": "2022-11-22T04:18:27.732Z"
   },
   {
    "duration": 11,
    "start_time": "2022-11-22T04:18:28.612Z"
   },
   {
    "duration": 39,
    "start_time": "2022-11-22T04:18:29.075Z"
   },
   {
    "duration": 4,
    "start_time": "2022-11-22T04:18:29.749Z"
   },
   {
    "duration": 11,
    "start_time": "2022-11-22T04:18:30.421Z"
   },
   {
    "duration": 5,
    "start_time": "2022-11-22T04:18:31.140Z"
   },
   {
    "duration": 7,
    "start_time": "2022-11-22T04:18:31.611Z"
   },
   {
    "duration": 5,
    "start_time": "2022-11-22T04:18:32.093Z"
   },
   {
    "duration": 44,
    "start_time": "2022-11-22T04:18:32.788Z"
   },
   {
    "duration": 10,
    "start_time": "2022-11-22T04:18:33.244Z"
   },
   {
    "duration": 4,
    "start_time": "2022-11-22T04:18:33.974Z"
   },
   {
    "duration": 11,
    "start_time": "2022-11-22T04:18:34.684Z"
   },
   {
    "duration": 19,
    "start_time": "2022-11-22T04:18:35.148Z"
   },
   {
    "duration": 19,
    "start_time": "2022-11-22T04:18:35.388Z"
   },
   {
    "duration": 4,
    "start_time": "2022-11-22T04:18:36.052Z"
   },
   {
    "duration": 10,
    "start_time": "2022-11-22T04:18:36.309Z"
   },
   {
    "duration": 7,
    "start_time": "2022-11-22T04:18:36.788Z"
   },
   {
    "duration": 4,
    "start_time": "2022-11-22T04:18:37.260Z"
   },
   {
    "duration": 10,
    "start_time": "2022-11-22T04:18:37.484Z"
   },
   {
    "duration": 15,
    "start_time": "2022-11-22T04:18:38.412Z"
   },
   {
    "duration": 22,
    "start_time": "2022-11-22T04:18:39.652Z"
   },
   {
    "duration": 9,
    "start_time": "2022-11-22T04:19:05.172Z"
   },
   {
    "duration": 8,
    "start_time": "2022-11-22T04:19:07.716Z"
   },
   {
    "duration": 16,
    "start_time": "2022-11-22T04:19:13.987Z"
   },
   {
    "duration": 21,
    "start_time": "2022-11-22T04:19:17.440Z"
   },
   {
    "duration": 35,
    "start_time": "2022-11-22T04:20:31.134Z"
   },
   {
    "duration": 15,
    "start_time": "2022-11-22T04:21:51.758Z"
   },
   {
    "duration": 1365,
    "start_time": "2022-11-22T04:22:25.533Z"
   },
   {
    "duration": 11,
    "start_time": "2022-11-22T04:25:04.190Z"
   },
   {
    "duration": 10,
    "start_time": "2022-11-22T04:25:27.247Z"
   },
   {
    "duration": 1386,
    "start_time": "2022-11-22T04:25:37.911Z"
   },
   {
    "duration": 63,
    "start_time": "2022-11-22T04:26:04.151Z"
   },
   {
    "duration": 28,
    "start_time": "2022-11-22T04:26:47.583Z"
   },
   {
    "duration": 26,
    "start_time": "2022-11-22T04:26:51.424Z"
   },
   {
    "duration": 76,
    "start_time": "2022-11-22T04:27:36.096Z"
   },
   {
    "duration": 16,
    "start_time": "2022-11-22T04:27:36.550Z"
   },
   {
    "duration": 16,
    "start_time": "2022-11-22T04:27:36.997Z"
   },
   {
    "duration": 11,
    "start_time": "2022-11-22T04:27:37.886Z"
   },
   {
    "duration": 36,
    "start_time": "2022-11-22T04:27:38.326Z"
   },
   {
    "duration": 3,
    "start_time": "2022-11-22T04:27:39.110Z"
   },
   {
    "duration": 12,
    "start_time": "2022-11-22T04:27:39.583Z"
   },
   {
    "duration": 4,
    "start_time": "2022-11-22T04:27:40.279Z"
   },
   {
    "duration": 7,
    "start_time": "2022-11-22T04:27:40.742Z"
   },
   {
    "duration": 6,
    "start_time": "2022-11-22T04:27:41.206Z"
   },
   {
    "duration": 35,
    "start_time": "2022-11-22T04:27:41.902Z"
   },
   {
    "duration": 10,
    "start_time": "2022-11-22T04:27:42.350Z"
   },
   {
    "duration": 4,
    "start_time": "2022-11-22T04:27:43.038Z"
   },
   {
    "duration": 12,
    "start_time": "2022-11-22T04:27:43.702Z"
   },
   {
    "duration": 23,
    "start_time": "2022-11-22T04:27:44.174Z"
   },
   {
    "duration": 19,
    "start_time": "2022-11-22T04:27:44.399Z"
   },
   {
    "duration": 4,
    "start_time": "2022-11-22T04:27:45.118Z"
   },
   {
    "duration": 11,
    "start_time": "2022-11-22T04:27:45.350Z"
   },
   {
    "duration": 8,
    "start_time": "2022-11-22T04:27:45.847Z"
   },
   {
    "duration": 4,
    "start_time": "2022-11-22T04:27:46.335Z"
   },
   {
    "duration": 9,
    "start_time": "2022-11-22T04:27:46.550Z"
   },
   {
    "duration": 13,
    "start_time": "2022-11-22T04:27:47.487Z"
   },
   {
    "duration": 19,
    "start_time": "2022-11-22T04:27:48.695Z"
   },
   {
    "duration": 9,
    "start_time": "2022-11-22T04:27:49.879Z"
   },
   {
    "duration": 7,
    "start_time": "2022-11-22T04:27:50.120Z"
   },
   {
    "duration": 23,
    "start_time": "2022-11-22T04:27:50.646Z"
   },
   {
    "duration": 52,
    "start_time": "2022-11-22T04:27:50.887Z"
   },
   {
    "duration": 22,
    "start_time": "2022-11-22T04:27:52.574Z"
   },
   {
    "duration": 20,
    "start_time": "2022-11-22T04:27:53.046Z"
   },
   {
    "duration": 68,
    "start_time": "2022-11-22T04:30:51.264Z"
   },
   {
    "duration": 477,
    "start_time": "2022-11-22T07:28:11.888Z"
   },
   {
    "duration": 22,
    "start_time": "2022-11-22T07:28:12.369Z"
   },
   {
    "duration": 16,
    "start_time": "2022-11-22T07:28:12.392Z"
   },
   {
    "duration": 9,
    "start_time": "2022-11-22T07:28:12.410Z"
   },
   {
    "duration": 35,
    "start_time": "2022-11-22T07:28:12.420Z"
   },
   {
    "duration": 4,
    "start_time": "2022-11-22T07:28:12.456Z"
   },
   {
    "duration": 13,
    "start_time": "2022-11-22T07:28:12.461Z"
   },
   {
    "duration": 5,
    "start_time": "2022-11-22T07:28:12.497Z"
   },
   {
    "duration": 12,
    "start_time": "2022-11-22T07:28:12.503Z"
   },
   {
    "duration": 5,
    "start_time": "2022-11-22T07:28:12.517Z"
   },
   {
    "duration": 34,
    "start_time": "2022-11-22T07:28:12.524Z"
   },
   {
    "duration": 10,
    "start_time": "2022-11-22T07:28:12.559Z"
   },
   {
    "duration": 27,
    "start_time": "2022-11-22T07:28:12.570Z"
   },
   {
    "duration": 10,
    "start_time": "2022-11-22T07:28:12.599Z"
   },
   {
    "duration": 22,
    "start_time": "2022-11-22T07:28:12.611Z"
   },
   {
    "duration": 23,
    "start_time": "2022-11-22T07:28:12.635Z"
   },
   {
    "duration": 3,
    "start_time": "2022-11-22T07:28:12.660Z"
   },
   {
    "duration": 32,
    "start_time": "2022-11-22T07:28:12.665Z"
   },
   {
    "duration": 6,
    "start_time": "2022-11-22T07:28:12.699Z"
   },
   {
    "duration": 4,
    "start_time": "2022-11-22T07:28:12.706Z"
   },
   {
    "duration": 10,
    "start_time": "2022-11-22T07:28:12.711Z"
   },
   {
    "duration": 11,
    "start_time": "2022-11-22T07:28:12.722Z"
   },
   {
    "duration": 15,
    "start_time": "2022-11-22T07:28:12.734Z"
   },
   {
    "duration": 7,
    "start_time": "2022-11-22T07:28:12.751Z"
   },
   {
    "duration": 39,
    "start_time": "2022-11-22T07:28:12.759Z"
   },
   {
    "duration": 14,
    "start_time": "2022-11-22T07:28:12.800Z"
   },
   {
    "duration": 50,
    "start_time": "2022-11-22T07:28:12.815Z"
   },
   {
    "duration": 31,
    "start_time": "2022-11-22T07:28:12.869Z"
   },
   {
    "duration": 18,
    "start_time": "2022-11-22T07:28:12.901Z"
   }
  ],
  "colab": {
   "name": "dpp_template_part2.ipynb",
   "provenance": []
  },
  "kernelspec": {
   "display_name": "Python 3 (ipykernel)",
   "language": "python",
   "name": "python3"
  },
  "language_info": {
   "codemirror_mode": {
    "name": "ipython",
    "version": 3
   },
   "file_extension": ".py",
   "mimetype": "text/x-python",
   "name": "python",
   "nbconvert_exporter": "python",
   "pygments_lexer": "ipython3",
   "version": "3.9.13"
  },
  "toc": {
   "base_numbering": 1,
   "nav_menu": {},
   "number_sections": true,
   "sideBar": true,
   "skip_h1_title": true,
   "title_cell": "Table of Contents",
   "title_sidebar": "Contents",
   "toc_cell": false,
   "toc_position": {},
   "toc_section_display": true,
   "toc_window_display": false
  }
 },
 "nbformat": 4,
 "nbformat_minor": 5
}
